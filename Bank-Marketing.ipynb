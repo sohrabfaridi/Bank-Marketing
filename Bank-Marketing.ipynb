{
 "cells": [
  {
   "cell_type": "code",
   "execution_count": 1,
   "metadata": {},
   "outputs": [],
   "source": [
    "import numpy as np\n",
    "import pandas as pd\n",
    "import matplotlib.pyplot as plt\n",
    "import seaborn as sns"
   ]
  },
  {
   "cell_type": "code",
   "execution_count": 2,
   "metadata": {},
   "outputs": [],
   "source": [
    "import pandas as pd\n",
    "import numpy as np\n",
    "import matplotlib.pyplot as plt\n",
    "from sklearn.model_selection import train_test_split\n",
    "from sklearn.model_selection import cross_val_score\n",
    "from sklearn.metrics import confusion_matrix, plot_confusion_matrix, recall_score, classification_report, precision_score\n",
    "from sklearn.metrics import f1_score, precision_recall_curve, roc_curve, roc_auc_score, average_precision_score\n",
    "from sklearn.metrics import  plot_precision_recall_curve, plot_roc_curve, balanced_accuracy_score, get_scorer\n",
    "import pydotplus\n",
    "import collections\n",
    "from sklearn.tree import export_graphviz\n",
    "from mlxtend.plotting import plot_confusion_matrix as ml_plot_confusion_matrix\n",
    "from sklearn.preprocessing import PowerTransformer, StandardScaler, MinMaxScaler, RobustScaler, OneHotEncoder\n",
    "from sklearn.compose import make_column_transformer\n",
    "from sklearn.pipeline import Pipeline\n",
    "from sklearn.model_selection import GridSearchCV\n",
    "from category_encoders import TargetEncoder\n",
    "from sklearn.compose import ColumnTransformer\n",
    "from sklearn.neighbors import KNeighborsClassifier\n",
    "from sklearn.linear_model import LogisticRegression\n",
    "from sklearn.svm import LinearSVC\n",
    "from sklearn.svm import SVC\n",
    "from sklearn.tree import DecisionTreeClassifier\n",
    "from sklearn.ensemble import RandomForestClassifier\n",
    "from xgboost import XGBClassifier"
   ]
  },
  {
   "cell_type": "code",
   "execution_count": 3,
   "metadata": {},
   "outputs": [],
   "source": [
    "df = pd.read_csv('bank-additional-full.csv', sep= ';')\n"
   ]
  },
  {
   "cell_type": "markdown",
   "metadata": {},
   "source": [
    "## Summary of data"
   ]
  },
  {
   "cell_type": "code",
   "execution_count": 4,
   "metadata": {},
   "outputs": [
    {
     "data": {
      "text/html": [
       "<div>\n",
       "<style scoped>\n",
       "    .dataframe tbody tr th:only-of-type {\n",
       "        vertical-align: middle;\n",
       "    }\n",
       "\n",
       "    .dataframe tbody tr th {\n",
       "        vertical-align: top;\n",
       "    }\n",
       "\n",
       "    .dataframe thead th {\n",
       "        text-align: right;\n",
       "    }\n",
       "</style>\n",
       "<table border=\"1\" class=\"dataframe\">\n",
       "  <thead>\n",
       "    <tr style=\"text-align: right;\">\n",
       "      <th></th>\n",
       "      <th>age</th>\n",
       "      <th>job</th>\n",
       "      <th>marital</th>\n",
       "      <th>education</th>\n",
       "      <th>default</th>\n",
       "      <th>housing</th>\n",
       "      <th>loan</th>\n",
       "      <th>contact</th>\n",
       "      <th>month</th>\n",
       "      <th>day_of_week</th>\n",
       "      <th>...</th>\n",
       "      <th>campaign</th>\n",
       "      <th>pdays</th>\n",
       "      <th>previous</th>\n",
       "      <th>poutcome</th>\n",
       "      <th>emp.var.rate</th>\n",
       "      <th>cons.price.idx</th>\n",
       "      <th>cons.conf.idx</th>\n",
       "      <th>euribor3m</th>\n",
       "      <th>nr.employed</th>\n",
       "      <th>y</th>\n",
       "    </tr>\n",
       "  </thead>\n",
       "  <tbody>\n",
       "    <tr>\n",
       "      <th>0</th>\n",
       "      <td>56</td>\n",
       "      <td>housemaid</td>\n",
       "      <td>married</td>\n",
       "      <td>basic.4y</td>\n",
       "      <td>no</td>\n",
       "      <td>no</td>\n",
       "      <td>no</td>\n",
       "      <td>telephone</td>\n",
       "      <td>may</td>\n",
       "      <td>mon</td>\n",
       "      <td>...</td>\n",
       "      <td>1</td>\n",
       "      <td>999</td>\n",
       "      <td>0</td>\n",
       "      <td>nonexistent</td>\n",
       "      <td>1.1</td>\n",
       "      <td>93.994</td>\n",
       "      <td>-36.4</td>\n",
       "      <td>4.857</td>\n",
       "      <td>5191.0</td>\n",
       "      <td>no</td>\n",
       "    </tr>\n",
       "    <tr>\n",
       "      <th>1</th>\n",
       "      <td>57</td>\n",
       "      <td>services</td>\n",
       "      <td>married</td>\n",
       "      <td>high.school</td>\n",
       "      <td>unknown</td>\n",
       "      <td>no</td>\n",
       "      <td>no</td>\n",
       "      <td>telephone</td>\n",
       "      <td>may</td>\n",
       "      <td>mon</td>\n",
       "      <td>...</td>\n",
       "      <td>1</td>\n",
       "      <td>999</td>\n",
       "      <td>0</td>\n",
       "      <td>nonexistent</td>\n",
       "      <td>1.1</td>\n",
       "      <td>93.994</td>\n",
       "      <td>-36.4</td>\n",
       "      <td>4.857</td>\n",
       "      <td>5191.0</td>\n",
       "      <td>no</td>\n",
       "    </tr>\n",
       "    <tr>\n",
       "      <th>2</th>\n",
       "      <td>37</td>\n",
       "      <td>services</td>\n",
       "      <td>married</td>\n",
       "      <td>high.school</td>\n",
       "      <td>no</td>\n",
       "      <td>yes</td>\n",
       "      <td>no</td>\n",
       "      <td>telephone</td>\n",
       "      <td>may</td>\n",
       "      <td>mon</td>\n",
       "      <td>...</td>\n",
       "      <td>1</td>\n",
       "      <td>999</td>\n",
       "      <td>0</td>\n",
       "      <td>nonexistent</td>\n",
       "      <td>1.1</td>\n",
       "      <td>93.994</td>\n",
       "      <td>-36.4</td>\n",
       "      <td>4.857</td>\n",
       "      <td>5191.0</td>\n",
       "      <td>no</td>\n",
       "    </tr>\n",
       "    <tr>\n",
       "      <th>3</th>\n",
       "      <td>40</td>\n",
       "      <td>admin.</td>\n",
       "      <td>married</td>\n",
       "      <td>basic.6y</td>\n",
       "      <td>no</td>\n",
       "      <td>no</td>\n",
       "      <td>no</td>\n",
       "      <td>telephone</td>\n",
       "      <td>may</td>\n",
       "      <td>mon</td>\n",
       "      <td>...</td>\n",
       "      <td>1</td>\n",
       "      <td>999</td>\n",
       "      <td>0</td>\n",
       "      <td>nonexistent</td>\n",
       "      <td>1.1</td>\n",
       "      <td>93.994</td>\n",
       "      <td>-36.4</td>\n",
       "      <td>4.857</td>\n",
       "      <td>5191.0</td>\n",
       "      <td>no</td>\n",
       "    </tr>\n",
       "    <tr>\n",
       "      <th>4</th>\n",
       "      <td>56</td>\n",
       "      <td>services</td>\n",
       "      <td>married</td>\n",
       "      <td>high.school</td>\n",
       "      <td>no</td>\n",
       "      <td>no</td>\n",
       "      <td>yes</td>\n",
       "      <td>telephone</td>\n",
       "      <td>may</td>\n",
       "      <td>mon</td>\n",
       "      <td>...</td>\n",
       "      <td>1</td>\n",
       "      <td>999</td>\n",
       "      <td>0</td>\n",
       "      <td>nonexistent</td>\n",
       "      <td>1.1</td>\n",
       "      <td>93.994</td>\n",
       "      <td>-36.4</td>\n",
       "      <td>4.857</td>\n",
       "      <td>5191.0</td>\n",
       "      <td>no</td>\n",
       "    </tr>\n",
       "  </tbody>\n",
       "</table>\n",
       "<p>5 rows × 21 columns</p>\n",
       "</div>"
      ],
      "text/plain": [
       "   age        job  marital    education  default housing loan    contact  \\\n",
       "0   56  housemaid  married     basic.4y       no      no   no  telephone   \n",
       "1   57   services  married  high.school  unknown      no   no  telephone   \n",
       "2   37   services  married  high.school       no     yes   no  telephone   \n",
       "3   40     admin.  married     basic.6y       no      no   no  telephone   \n",
       "4   56   services  married  high.school       no      no  yes  telephone   \n",
       "\n",
       "  month day_of_week  ...  campaign  pdays  previous     poutcome emp.var.rate  \\\n",
       "0   may         mon  ...         1    999         0  nonexistent          1.1   \n",
       "1   may         mon  ...         1    999         0  nonexistent          1.1   \n",
       "2   may         mon  ...         1    999         0  nonexistent          1.1   \n",
       "3   may         mon  ...         1    999         0  nonexistent          1.1   \n",
       "4   may         mon  ...         1    999         0  nonexistent          1.1   \n",
       "\n",
       "   cons.price.idx  cons.conf.idx  euribor3m  nr.employed   y  \n",
       "0          93.994          -36.4      4.857       5191.0  no  \n",
       "1          93.994          -36.4      4.857       5191.0  no  \n",
       "2          93.994          -36.4      4.857       5191.0  no  \n",
       "3          93.994          -36.4      4.857       5191.0  no  \n",
       "4          93.994          -36.4      4.857       5191.0  no  \n",
       "\n",
       "[5 rows x 21 columns]"
      ]
     },
     "execution_count": 4,
     "metadata": {},
     "output_type": "execute_result"
    }
   ],
   "source": [
    "df.head()"
   ]
  },
  {
   "cell_type": "code",
   "execution_count": 5,
   "metadata": {},
   "outputs": [],
   "source": [
    "# Making new y_1: 1= yes and 0= no\n",
    "df.loc[df['y']== 'no', 'y_1']= 0\n",
    "df.loc[df['y']== 'yes', 'y_1']= 1"
   ]
  },
  {
   "cell_type": "code",
   "execution_count": 6,
   "metadata": {},
   "outputs": [
    {
     "data": {
      "text/plain": [
       "(41188, 22)"
      ]
     },
     "execution_count": 6,
     "metadata": {},
     "output_type": "execute_result"
    }
   ],
   "source": [
    "df.shape"
   ]
  },
  {
   "cell_type": "code",
   "execution_count": 7,
   "metadata": {},
   "outputs": [
    {
     "name": "stdout",
     "output_type": "stream",
     "text": [
      "<class 'pandas.core.frame.DataFrame'>\n",
      "RangeIndex: 41188 entries, 0 to 41187\n",
      "Data columns (total 22 columns):\n",
      " #   Column          Non-Null Count  Dtype  \n",
      "---  ------          --------------  -----  \n",
      " 0   age             41188 non-null  int64  \n",
      " 1   job             41188 non-null  object \n",
      " 2   marital         41188 non-null  object \n",
      " 3   education       41188 non-null  object \n",
      " 4   default         41188 non-null  object \n",
      " 5   housing         41188 non-null  object \n",
      " 6   loan            41188 non-null  object \n",
      " 7   contact         41188 non-null  object \n",
      " 8   month           41188 non-null  object \n",
      " 9   day_of_week     41188 non-null  object \n",
      " 10  duration        41188 non-null  int64  \n",
      " 11  campaign        41188 non-null  int64  \n",
      " 12  pdays           41188 non-null  int64  \n",
      " 13  previous        41188 non-null  int64  \n",
      " 14  poutcome        41188 non-null  object \n",
      " 15  emp.var.rate    41188 non-null  float64\n",
      " 16  cons.price.idx  41188 non-null  float64\n",
      " 17  cons.conf.idx   41188 non-null  float64\n",
      " 18  euribor3m       41188 non-null  float64\n",
      " 19  nr.employed     41188 non-null  float64\n",
      " 20  y               41188 non-null  object \n",
      " 21  y_1             41188 non-null  float64\n",
      "dtypes: float64(6), int64(5), object(11)\n",
      "memory usage: 6.9+ MB\n"
     ]
    }
   ],
   "source": [
    "df.info()"
   ]
  },
  {
   "cell_type": "code",
   "execution_count": 8,
   "metadata": {},
   "outputs": [
    {
     "data": {
      "text/plain": [
       "Index(['age', 'job', 'marital', 'education', 'default', 'housing', 'loan',\n",
       "       'contact', 'month', 'day_of_week', 'duration', 'campaign', 'pdays',\n",
       "       'previous', 'poutcome', 'emp.var.rate', 'cons.price.idx',\n",
       "       'cons.conf.idx', 'euribor3m', 'nr.employed', 'y', 'y_1'],\n",
       "      dtype='object')"
      ]
     },
     "execution_count": 8,
     "metadata": {},
     "output_type": "execute_result"
    }
   ],
   "source": [
    "df.columns"
   ]
  },
  {
   "cell_type": "code",
   "execution_count": 9,
   "metadata": {
    "scrolled": true
   },
   "outputs": [
    {
     "data": {
      "text/html": [
       "<div>\n",
       "<style scoped>\n",
       "    .dataframe tbody tr th:only-of-type {\n",
       "        vertical-align: middle;\n",
       "    }\n",
       "\n",
       "    .dataframe tbody tr th {\n",
       "        vertical-align: top;\n",
       "    }\n",
       "\n",
       "    .dataframe thead th {\n",
       "        text-align: right;\n",
       "    }\n",
       "</style>\n",
       "<table border=\"1\" class=\"dataframe\">\n",
       "  <thead>\n",
       "    <tr style=\"text-align: right;\">\n",
       "      <th></th>\n",
       "      <th>age</th>\n",
       "      <th>job</th>\n",
       "      <th>marital</th>\n",
       "      <th>education</th>\n",
       "      <th>default</th>\n",
       "      <th>housing</th>\n",
       "      <th>loan</th>\n",
       "      <th>contact</th>\n",
       "      <th>month</th>\n",
       "      <th>day_of_week</th>\n",
       "      <th>...</th>\n",
       "      <th>pdays</th>\n",
       "      <th>previous</th>\n",
       "      <th>poutcome</th>\n",
       "      <th>emp.var.rate</th>\n",
       "      <th>cons.price.idx</th>\n",
       "      <th>cons.conf.idx</th>\n",
       "      <th>euribor3m</th>\n",
       "      <th>nr.employed</th>\n",
       "      <th>y</th>\n",
       "      <th>y_1</th>\n",
       "    </tr>\n",
       "  </thead>\n",
       "  <tbody>\n",
       "    <tr>\n",
       "      <th>count</th>\n",
       "      <td>41188.00000</td>\n",
       "      <td>41188</td>\n",
       "      <td>41188</td>\n",
       "      <td>41188</td>\n",
       "      <td>41188</td>\n",
       "      <td>41188</td>\n",
       "      <td>41188</td>\n",
       "      <td>41188</td>\n",
       "      <td>41188</td>\n",
       "      <td>41188</td>\n",
       "      <td>...</td>\n",
       "      <td>41188.000000</td>\n",
       "      <td>41188.000000</td>\n",
       "      <td>41188</td>\n",
       "      <td>41188.000000</td>\n",
       "      <td>41188.000000</td>\n",
       "      <td>41188.000000</td>\n",
       "      <td>41188.000000</td>\n",
       "      <td>41188.000000</td>\n",
       "      <td>41188</td>\n",
       "      <td>41188.000000</td>\n",
       "    </tr>\n",
       "    <tr>\n",
       "      <th>unique</th>\n",
       "      <td>NaN</td>\n",
       "      <td>12</td>\n",
       "      <td>4</td>\n",
       "      <td>8</td>\n",
       "      <td>3</td>\n",
       "      <td>3</td>\n",
       "      <td>3</td>\n",
       "      <td>2</td>\n",
       "      <td>10</td>\n",
       "      <td>5</td>\n",
       "      <td>...</td>\n",
       "      <td>NaN</td>\n",
       "      <td>NaN</td>\n",
       "      <td>3</td>\n",
       "      <td>NaN</td>\n",
       "      <td>NaN</td>\n",
       "      <td>NaN</td>\n",
       "      <td>NaN</td>\n",
       "      <td>NaN</td>\n",
       "      <td>2</td>\n",
       "      <td>NaN</td>\n",
       "    </tr>\n",
       "    <tr>\n",
       "      <th>top</th>\n",
       "      <td>NaN</td>\n",
       "      <td>admin.</td>\n",
       "      <td>married</td>\n",
       "      <td>university.degree</td>\n",
       "      <td>no</td>\n",
       "      <td>yes</td>\n",
       "      <td>no</td>\n",
       "      <td>cellular</td>\n",
       "      <td>may</td>\n",
       "      <td>thu</td>\n",
       "      <td>...</td>\n",
       "      <td>NaN</td>\n",
       "      <td>NaN</td>\n",
       "      <td>nonexistent</td>\n",
       "      <td>NaN</td>\n",
       "      <td>NaN</td>\n",
       "      <td>NaN</td>\n",
       "      <td>NaN</td>\n",
       "      <td>NaN</td>\n",
       "      <td>no</td>\n",
       "      <td>NaN</td>\n",
       "    </tr>\n",
       "    <tr>\n",
       "      <th>freq</th>\n",
       "      <td>NaN</td>\n",
       "      <td>10422</td>\n",
       "      <td>24928</td>\n",
       "      <td>12168</td>\n",
       "      <td>32588</td>\n",
       "      <td>21576</td>\n",
       "      <td>33950</td>\n",
       "      <td>26144</td>\n",
       "      <td>13769</td>\n",
       "      <td>8623</td>\n",
       "      <td>...</td>\n",
       "      <td>NaN</td>\n",
       "      <td>NaN</td>\n",
       "      <td>35563</td>\n",
       "      <td>NaN</td>\n",
       "      <td>NaN</td>\n",
       "      <td>NaN</td>\n",
       "      <td>NaN</td>\n",
       "      <td>NaN</td>\n",
       "      <td>36548</td>\n",
       "      <td>NaN</td>\n",
       "    </tr>\n",
       "    <tr>\n",
       "      <th>mean</th>\n",
       "      <td>40.02406</td>\n",
       "      <td>NaN</td>\n",
       "      <td>NaN</td>\n",
       "      <td>NaN</td>\n",
       "      <td>NaN</td>\n",
       "      <td>NaN</td>\n",
       "      <td>NaN</td>\n",
       "      <td>NaN</td>\n",
       "      <td>NaN</td>\n",
       "      <td>NaN</td>\n",
       "      <td>...</td>\n",
       "      <td>962.475454</td>\n",
       "      <td>0.172963</td>\n",
       "      <td>NaN</td>\n",
       "      <td>0.081886</td>\n",
       "      <td>93.575664</td>\n",
       "      <td>-40.502600</td>\n",
       "      <td>3.621291</td>\n",
       "      <td>5167.035911</td>\n",
       "      <td>NaN</td>\n",
       "      <td>0.112654</td>\n",
       "    </tr>\n",
       "    <tr>\n",
       "      <th>std</th>\n",
       "      <td>10.42125</td>\n",
       "      <td>NaN</td>\n",
       "      <td>NaN</td>\n",
       "      <td>NaN</td>\n",
       "      <td>NaN</td>\n",
       "      <td>NaN</td>\n",
       "      <td>NaN</td>\n",
       "      <td>NaN</td>\n",
       "      <td>NaN</td>\n",
       "      <td>NaN</td>\n",
       "      <td>...</td>\n",
       "      <td>186.910907</td>\n",
       "      <td>0.494901</td>\n",
       "      <td>NaN</td>\n",
       "      <td>1.570960</td>\n",
       "      <td>0.578840</td>\n",
       "      <td>4.628198</td>\n",
       "      <td>1.734447</td>\n",
       "      <td>72.251528</td>\n",
       "      <td>NaN</td>\n",
       "      <td>0.316173</td>\n",
       "    </tr>\n",
       "    <tr>\n",
       "      <th>min</th>\n",
       "      <td>17.00000</td>\n",
       "      <td>NaN</td>\n",
       "      <td>NaN</td>\n",
       "      <td>NaN</td>\n",
       "      <td>NaN</td>\n",
       "      <td>NaN</td>\n",
       "      <td>NaN</td>\n",
       "      <td>NaN</td>\n",
       "      <td>NaN</td>\n",
       "      <td>NaN</td>\n",
       "      <td>...</td>\n",
       "      <td>0.000000</td>\n",
       "      <td>0.000000</td>\n",
       "      <td>NaN</td>\n",
       "      <td>-3.400000</td>\n",
       "      <td>92.201000</td>\n",
       "      <td>-50.800000</td>\n",
       "      <td>0.634000</td>\n",
       "      <td>4963.600000</td>\n",
       "      <td>NaN</td>\n",
       "      <td>0.000000</td>\n",
       "    </tr>\n",
       "    <tr>\n",
       "      <th>25%</th>\n",
       "      <td>32.00000</td>\n",
       "      <td>NaN</td>\n",
       "      <td>NaN</td>\n",
       "      <td>NaN</td>\n",
       "      <td>NaN</td>\n",
       "      <td>NaN</td>\n",
       "      <td>NaN</td>\n",
       "      <td>NaN</td>\n",
       "      <td>NaN</td>\n",
       "      <td>NaN</td>\n",
       "      <td>...</td>\n",
       "      <td>999.000000</td>\n",
       "      <td>0.000000</td>\n",
       "      <td>NaN</td>\n",
       "      <td>-1.800000</td>\n",
       "      <td>93.075000</td>\n",
       "      <td>-42.700000</td>\n",
       "      <td>1.344000</td>\n",
       "      <td>5099.100000</td>\n",
       "      <td>NaN</td>\n",
       "      <td>0.000000</td>\n",
       "    </tr>\n",
       "    <tr>\n",
       "      <th>50%</th>\n",
       "      <td>38.00000</td>\n",
       "      <td>NaN</td>\n",
       "      <td>NaN</td>\n",
       "      <td>NaN</td>\n",
       "      <td>NaN</td>\n",
       "      <td>NaN</td>\n",
       "      <td>NaN</td>\n",
       "      <td>NaN</td>\n",
       "      <td>NaN</td>\n",
       "      <td>NaN</td>\n",
       "      <td>...</td>\n",
       "      <td>999.000000</td>\n",
       "      <td>0.000000</td>\n",
       "      <td>NaN</td>\n",
       "      <td>1.100000</td>\n",
       "      <td>93.749000</td>\n",
       "      <td>-41.800000</td>\n",
       "      <td>4.857000</td>\n",
       "      <td>5191.000000</td>\n",
       "      <td>NaN</td>\n",
       "      <td>0.000000</td>\n",
       "    </tr>\n",
       "    <tr>\n",
       "      <th>75%</th>\n",
       "      <td>47.00000</td>\n",
       "      <td>NaN</td>\n",
       "      <td>NaN</td>\n",
       "      <td>NaN</td>\n",
       "      <td>NaN</td>\n",
       "      <td>NaN</td>\n",
       "      <td>NaN</td>\n",
       "      <td>NaN</td>\n",
       "      <td>NaN</td>\n",
       "      <td>NaN</td>\n",
       "      <td>...</td>\n",
       "      <td>999.000000</td>\n",
       "      <td>0.000000</td>\n",
       "      <td>NaN</td>\n",
       "      <td>1.400000</td>\n",
       "      <td>93.994000</td>\n",
       "      <td>-36.400000</td>\n",
       "      <td>4.961000</td>\n",
       "      <td>5228.100000</td>\n",
       "      <td>NaN</td>\n",
       "      <td>0.000000</td>\n",
       "    </tr>\n",
       "    <tr>\n",
       "      <th>max</th>\n",
       "      <td>98.00000</td>\n",
       "      <td>NaN</td>\n",
       "      <td>NaN</td>\n",
       "      <td>NaN</td>\n",
       "      <td>NaN</td>\n",
       "      <td>NaN</td>\n",
       "      <td>NaN</td>\n",
       "      <td>NaN</td>\n",
       "      <td>NaN</td>\n",
       "      <td>NaN</td>\n",
       "      <td>...</td>\n",
       "      <td>999.000000</td>\n",
       "      <td>7.000000</td>\n",
       "      <td>NaN</td>\n",
       "      <td>1.400000</td>\n",
       "      <td>94.767000</td>\n",
       "      <td>-26.900000</td>\n",
       "      <td>5.045000</td>\n",
       "      <td>5228.100000</td>\n",
       "      <td>NaN</td>\n",
       "      <td>1.000000</td>\n",
       "    </tr>\n",
       "  </tbody>\n",
       "</table>\n",
       "<p>11 rows × 22 columns</p>\n",
       "</div>"
      ],
      "text/plain": [
       "                age     job  marital          education default housing  \\\n",
       "count   41188.00000   41188    41188              41188   41188   41188   \n",
       "unique          NaN      12        4                  8       3       3   \n",
       "top             NaN  admin.  married  university.degree      no     yes   \n",
       "freq            NaN   10422    24928              12168   32588   21576   \n",
       "mean       40.02406     NaN      NaN                NaN     NaN     NaN   \n",
       "std        10.42125     NaN      NaN                NaN     NaN     NaN   \n",
       "min        17.00000     NaN      NaN                NaN     NaN     NaN   \n",
       "25%        32.00000     NaN      NaN                NaN     NaN     NaN   \n",
       "50%        38.00000     NaN      NaN                NaN     NaN     NaN   \n",
       "75%        47.00000     NaN      NaN                NaN     NaN     NaN   \n",
       "max        98.00000     NaN      NaN                NaN     NaN     NaN   \n",
       "\n",
       "         loan   contact  month day_of_week  ...         pdays      previous  \\\n",
       "count   41188     41188  41188       41188  ...  41188.000000  41188.000000   \n",
       "unique      3         2     10           5  ...           NaN           NaN   \n",
       "top        no  cellular    may         thu  ...           NaN           NaN   \n",
       "freq    33950     26144  13769        8623  ...           NaN           NaN   \n",
       "mean      NaN       NaN    NaN         NaN  ...    962.475454      0.172963   \n",
       "std       NaN       NaN    NaN         NaN  ...    186.910907      0.494901   \n",
       "min       NaN       NaN    NaN         NaN  ...      0.000000      0.000000   \n",
       "25%       NaN       NaN    NaN         NaN  ...    999.000000      0.000000   \n",
       "50%       NaN       NaN    NaN         NaN  ...    999.000000      0.000000   \n",
       "75%       NaN       NaN    NaN         NaN  ...    999.000000      0.000000   \n",
       "max       NaN       NaN    NaN         NaN  ...    999.000000      7.000000   \n",
       "\n",
       "           poutcome  emp.var.rate cons.price.idx  cons.conf.idx     euribor3m  \\\n",
       "count         41188  41188.000000   41188.000000   41188.000000  41188.000000   \n",
       "unique            3           NaN            NaN            NaN           NaN   \n",
       "top     nonexistent           NaN            NaN            NaN           NaN   \n",
       "freq          35563           NaN            NaN            NaN           NaN   \n",
       "mean            NaN      0.081886      93.575664     -40.502600      3.621291   \n",
       "std             NaN      1.570960       0.578840       4.628198      1.734447   \n",
       "min             NaN     -3.400000      92.201000     -50.800000      0.634000   \n",
       "25%             NaN     -1.800000      93.075000     -42.700000      1.344000   \n",
       "50%             NaN      1.100000      93.749000     -41.800000      4.857000   \n",
       "75%             NaN      1.400000      93.994000     -36.400000      4.961000   \n",
       "max             NaN      1.400000      94.767000     -26.900000      5.045000   \n",
       "\n",
       "         nr.employed      y           y_1  \n",
       "count   41188.000000  41188  41188.000000  \n",
       "unique           NaN      2           NaN  \n",
       "top              NaN     no           NaN  \n",
       "freq             NaN  36548           NaN  \n",
       "mean     5167.035911    NaN      0.112654  \n",
       "std        72.251528    NaN      0.316173  \n",
       "min      4963.600000    NaN      0.000000  \n",
       "25%      5099.100000    NaN      0.000000  \n",
       "50%      5191.000000    NaN      0.000000  \n",
       "75%      5228.100000    NaN      0.000000  \n",
       "max      5228.100000    NaN      1.000000  \n",
       "\n",
       "[11 rows x 22 columns]"
      ]
     },
     "execution_count": 9,
     "metadata": {},
     "output_type": "execute_result"
    }
   ],
   "source": [
    "df.describe(include = 'all')"
   ]
  },
  {
   "cell_type": "code",
   "execution_count": 10,
   "metadata": {},
   "outputs": [],
   "source": [
    "# This function will plot a bar plot which shows (Percentage Of People Who Said Yes) due to one variable:\n",
    "def popwsy_plot(variable, figsize= (4, 4)):\n",
    "    agg= df.groupby(variable).aggregate([np.mean])\n",
    "    sorted_agg= agg[\"y_1\", \"mean\"].values.argsort()\n",
    "    plt.figure(figsize= figsize)\n",
    "    plt.bar(range(len(agg)), agg[\"y_1\", \"mean\"].iloc[sorted_agg])\n",
    "    plt.xticks(range(len(agg)), agg[\"y_1\", \"mean\"].index[sorted_agg])\n",
    "    plt.xlabel('%s'%(variable))\n",
    "    plt.ylabel(\"Percentage of people who said yes\")\n",
    "    plt.tight_layout()   \n",
    "# Same for horizental:\n",
    "def popwsy_ploth(variable, figsize= (4, 4)):\n",
    "    agg= df.groupby(variable).aggregate([np.mean])\n",
    "    sorted_agg= agg[\"y_1\", \"mean\"].values.argsort()\n",
    "    plt.figure(figsize= figsize)\n",
    "    plt.barh(range(len(agg)), agg[\"y_1\", \"mean\"].iloc[sorted_agg])\n",
    "    plt.yticks(range(len(agg)), agg[\"y_1\", \"mean\"].index[sorted_agg])\n",
    "    plt.ylabel('%s'%(variable))\n",
    "    plt.xlabel(\"Percentage of people who said yes\")\n",
    "    plt.tight_layout()\n",
    "\n",
    "\n",
    "    \n",
    "# This function will plot frequency of categorical variables:\n",
    "def freq_plot(variable, figsize= (5, 5)):\n",
    "    value_counts= df[variable].value_counts()\n",
    "    plt.figure(figsize= figsize)\n",
    "    plt.bar(range(len(value_counts)), value_counts)\n",
    "    plt.xticks(range(len(value_counts)), value_counts.index)\n",
    "    plt.ylabel('Count')\n",
    "    plt.xlabel('%s'%(variable))\n",
    "    plt.tight_layout()\n",
    "# Same for horizental:\n",
    "def freq_ploth(variable, figsize= (5, 5)):\n",
    "    value_counts= df[variable].value_counts()\n",
    "    plt.figure(figsize= figsize)\n",
    "    plt.barh(range(len(value_counts)), value_counts)\n",
    "    plt.yticks(range(len(value_counts)), value_counts.index)\n",
    "    plt.xlabel('Count')\n",
    "    plt.ylabel('%s'%(variable))\n",
    "    plt.tight_layout()\n",
    "    "
   ]
  },
  {
   "cell_type": "markdown",
   "metadata": {},
   "source": [
    "## Age variable"
   ]
  },
  {
   "cell_type": "code",
   "execution_count": 11,
   "metadata": {},
   "outputs": [
    {
     "data": {
      "text/plain": [
       "31    1947\n",
       "32    1846\n",
       "33    1833\n",
       "36    1780\n",
       "35    1759\n",
       "      ... \n",
       "89       2\n",
       "91       2\n",
       "87       1\n",
       "94       1\n",
       "95       1\n",
       "Name: age, Length: 78, dtype: int64"
      ]
     },
     "execution_count": 11,
     "metadata": {},
     "output_type": "execute_result"
    }
   ],
   "source": [
    "df['age'].value_counts()"
   ]
  },
  {
   "cell_type": "code",
   "execution_count": 12,
   "metadata": {},
   "outputs": [
    {
     "data": {
      "image/png": "[encoded data removed]",
      "text/plain": [
       "<Figure size 1152x576 with 1 Axes>"
      ]
     },
     "metadata": {
      "needs_background": "light"
     },
     "output_type": "display_data"
    }
   ],
   "source": [
    "plt.figure(figsize= (16, 8))\n",
    "plt.hist(df['age'], bins= 25, color= 'orange')\n",
    "plt.tight_layout()"
   ]
  },
  {
   "cell_type": "code",
   "execution_count": 13,
   "metadata": {},
   "outputs": [
    {
     "data": {
      "text/plain": [
       "0.25    32.0\n",
       "0.50    38.0\n",
       "0.75    47.0\n",
       "Name: age, dtype: float64"
      ]
     },
     "execution_count": 13,
     "metadata": {},
     "output_type": "execute_result"
    }
   ],
   "source": [
    "df['age'].quantile([.25, .5, .75])"
   ]
  },
  {
   "cell_type": "code",
   "execution_count": 14,
   "metadata": {},
   "outputs": [
    {
     "data": {
      "text/html": [
       "<div>\n",
       "<style scoped>\n",
       "    .dataframe tbody tr th:only-of-type {\n",
       "        vertical-align: middle;\n",
       "    }\n",
       "\n",
       "    .dataframe tbody tr th {\n",
       "        vertical-align: top;\n",
       "    }\n",
       "\n",
       "    .dataframe thead th {\n",
       "        text-align: right;\n",
       "    }\n",
       "</style>\n",
       "<table border=\"1\" class=\"dataframe\">\n",
       "  <thead>\n",
       "    <tr style=\"text-align: right;\">\n",
       "      <th></th>\n",
       "      <th>age</th>\n",
       "      <th>job</th>\n",
       "      <th>marital</th>\n",
       "      <th>education</th>\n",
       "      <th>default</th>\n",
       "      <th>housing</th>\n",
       "      <th>loan</th>\n",
       "      <th>contact</th>\n",
       "      <th>month</th>\n",
       "      <th>day_of_week</th>\n",
       "      <th>...</th>\n",
       "      <th>pdays</th>\n",
       "      <th>previous</th>\n",
       "      <th>poutcome</th>\n",
       "      <th>emp.var.rate</th>\n",
       "      <th>cons.price.idx</th>\n",
       "      <th>cons.conf.idx</th>\n",
       "      <th>euribor3m</th>\n",
       "      <th>nr.employed</th>\n",
       "      <th>y</th>\n",
       "      <th>y_1</th>\n",
       "    </tr>\n",
       "  </thead>\n",
       "  <tbody>\n",
       "    <tr>\n",
       "      <th>0</th>\n",
       "      <td>72</td>\n",
       "      <td>housemaid</td>\n",
       "      <td>married</td>\n",
       "      <td>basic.4y</td>\n",
       "      <td>no</td>\n",
       "      <td>no</td>\n",
       "      <td>no</td>\n",
       "      <td>telephone</td>\n",
       "      <td>may</td>\n",
       "      <td>mon</td>\n",
       "      <td>...</td>\n",
       "      <td>999</td>\n",
       "      <td>0</td>\n",
       "      <td>nonexistent</td>\n",
       "      <td>1.1</td>\n",
       "      <td>93.994</td>\n",
       "      <td>-36.4</td>\n",
       "      <td>4.857</td>\n",
       "      <td>5191.0</td>\n",
       "      <td>no</td>\n",
       "      <td>0.0</td>\n",
       "    </tr>\n",
       "    <tr>\n",
       "      <th>1</th>\n",
       "      <td>72</td>\n",
       "      <td>services</td>\n",
       "      <td>married</td>\n",
       "      <td>high.school</td>\n",
       "      <td>unknown</td>\n",
       "      <td>no</td>\n",
       "      <td>no</td>\n",
       "      <td>telephone</td>\n",
       "      <td>may</td>\n",
       "      <td>mon</td>\n",
       "      <td>...</td>\n",
       "      <td>999</td>\n",
       "      <td>0</td>\n",
       "      <td>nonexistent</td>\n",
       "      <td>1.1</td>\n",
       "      <td>93.994</td>\n",
       "      <td>-36.4</td>\n",
       "      <td>4.857</td>\n",
       "      <td>5191.0</td>\n",
       "      <td>no</td>\n",
       "      <td>0.0</td>\n",
       "    </tr>\n",
       "    <tr>\n",
       "      <th>2</th>\n",
       "      <td>40</td>\n",
       "      <td>services</td>\n",
       "      <td>married</td>\n",
       "      <td>high.school</td>\n",
       "      <td>no</td>\n",
       "      <td>yes</td>\n",
       "      <td>no</td>\n",
       "      <td>telephone</td>\n",
       "      <td>may</td>\n",
       "      <td>mon</td>\n",
       "      <td>...</td>\n",
       "      <td>999</td>\n",
       "      <td>0</td>\n",
       "      <td>nonexistent</td>\n",
       "      <td>1.1</td>\n",
       "      <td>93.994</td>\n",
       "      <td>-36.4</td>\n",
       "      <td>4.857</td>\n",
       "      <td>5191.0</td>\n",
       "      <td>no</td>\n",
       "      <td>0.0</td>\n",
       "    </tr>\n",
       "    <tr>\n",
       "      <th>3</th>\n",
       "      <td>40</td>\n",
       "      <td>admin.</td>\n",
       "      <td>married</td>\n",
       "      <td>basic.6y</td>\n",
       "      <td>no</td>\n",
       "      <td>no</td>\n",
       "      <td>no</td>\n",
       "      <td>telephone</td>\n",
       "      <td>may</td>\n",
       "      <td>mon</td>\n",
       "      <td>...</td>\n",
       "      <td>999</td>\n",
       "      <td>0</td>\n",
       "      <td>nonexistent</td>\n",
       "      <td>1.1</td>\n",
       "      <td>93.994</td>\n",
       "      <td>-36.4</td>\n",
       "      <td>4.857</td>\n",
       "      <td>5191.0</td>\n",
       "      <td>no</td>\n",
       "      <td>0.0</td>\n",
       "    </tr>\n",
       "    <tr>\n",
       "      <th>4</th>\n",
       "      <td>72</td>\n",
       "      <td>services</td>\n",
       "      <td>married</td>\n",
       "      <td>high.school</td>\n",
       "      <td>no</td>\n",
       "      <td>no</td>\n",
       "      <td>yes</td>\n",
       "      <td>telephone</td>\n",
       "      <td>may</td>\n",
       "      <td>mon</td>\n",
       "      <td>...</td>\n",
       "      <td>999</td>\n",
       "      <td>0</td>\n",
       "      <td>nonexistent</td>\n",
       "      <td>1.1</td>\n",
       "      <td>93.994</td>\n",
       "      <td>-36.4</td>\n",
       "      <td>4.857</td>\n",
       "      <td>5191.0</td>\n",
       "      <td>no</td>\n",
       "      <td>0.0</td>\n",
       "    </tr>\n",
       "  </tbody>\n",
       "</table>\n",
       "<p>5 rows × 22 columns</p>\n",
       "</div>"
      ],
      "text/plain": [
       "   age        job  marital    education  default housing loan    contact  \\\n",
       "0   72  housemaid  married     basic.4y       no      no   no  telephone   \n",
       "1   72   services  married  high.school  unknown      no   no  telephone   \n",
       "2   40   services  married  high.school       no     yes   no  telephone   \n",
       "3   40     admin.  married     basic.6y       no      no   no  telephone   \n",
       "4   72   services  married  high.school       no      no  yes  telephone   \n",
       "\n",
       "  month day_of_week  ...  pdays  previous     poutcome  emp.var.rate  \\\n",
       "0   may         mon  ...    999         0  nonexistent           1.1   \n",
       "1   may         mon  ...    999         0  nonexistent           1.1   \n",
       "2   may         mon  ...    999         0  nonexistent           1.1   \n",
       "3   may         mon  ...    999         0  nonexistent           1.1   \n",
       "4   may         mon  ...    999         0  nonexistent           1.1   \n",
       "\n",
       "  cons.price.idx  cons.conf.idx  euribor3m  nr.employed   y  y_1  \n",
       "0         93.994          -36.4      4.857       5191.0  no  0.0  \n",
       "1         93.994          -36.4      4.857       5191.0  no  0.0  \n",
       "2         93.994          -36.4      4.857       5191.0  no  0.0  \n",
       "3         93.994          -36.4      4.857       5191.0  no  0.0  \n",
       "4         93.994          -36.4      4.857       5191.0  no  0.0  \n",
       "\n",
       "[5 rows x 22 columns]"
      ]
     },
     "execution_count": 14,
     "metadata": {},
     "output_type": "execute_result"
    }
   ],
   "source": [
    "df.loc[df['age'] < 32, 'age'] = 25\n",
    "df.loc[(df['age'] >= 32)&(df.age <= 47),'age'] = 40\n",
    "df.loc[df['age'] > 47,'age'] = 72\n",
    "df.head()"
   ]
  },
  {
   "cell_type": "code",
   "execution_count": 15,
   "metadata": {},
   "outputs": [
    {
     "data": {
      "text/plain": [
       "40    21985\n",
       "72     9873\n",
       "25     9330\n",
       "Name: age, dtype: int64"
      ]
     },
     "execution_count": 15,
     "metadata": {},
     "output_type": "execute_result"
    }
   ],
   "source": [
    "df['age'].value_counts()"
   ]
  },
  {
   "cell_type": "code",
   "execution_count": 16,
   "metadata": {},
   "outputs": [
    {
     "data": {
      "image/png": "[encoded data removed]",
      "text/plain": [
       "<Figure size 288x288 with 1 Axes>"
      ]
     },
     "metadata": {
      "needs_background": "light"
     },
     "output_type": "display_data"
    }
   ],
   "source": [
    "popwsy_plot(variable= 'age')"
   ]
  },
  {
   "cell_type": "markdown",
   "metadata": {},
   "source": [
    "## Duration variable\n",
    "#### : last contact duration, in seconds (numeric). Important note: this attribute highly affects the output target (e.g., if duration=0 then y='no'). Yet, the duration is not known before a call is performed. Also, after the end of the call y is obviously known. Thus, this input should only be included for benchmark purposes and should be discarded if the intention is to have a realistic predictive model."
   ]
  },
  {
   "cell_type": "markdown",
   "metadata": {},
   "source": [
    "## Job variable\n",
    "### type of job "
   ]
  },
  {
   "cell_type": "code",
   "execution_count": 17,
   "metadata": {},
   "outputs": [
    {
     "data": {
      "image/png": "[encoded data removed]",
      "text/plain": [
       "<Figure size 288x432 with 1 Axes>"
      ]
     },
     "metadata": {
      "needs_background": "light"
     },
     "output_type": "display_data"
    }
   ],
   "source": [
    "freq_ploth('job', (4, 6))"
   ]
  },
  {
   "cell_type": "code",
   "execution_count": 18,
   "metadata": {},
   "outputs": [
    {
     "data": {
      "image/png": "[encoded data removed]",
      "text/plain": [
       "<Figure size 360x432 with 1 Axes>"
      ]
     },
     "metadata": {
      "needs_background": "light"
     },
     "output_type": "display_data"
    }
   ],
   "source": [
    "popwsy_ploth('job', (5, 6))"
   ]
  },
  {
   "cell_type": "markdown",
   "metadata": {},
   "source": [
    "## Martial variable\n",
    "###  marital status "
   ]
  },
  {
   "cell_type": "code",
   "execution_count": 19,
   "metadata": {},
   "outputs": [
    {
     "data": {
      "image/png": "[encoded data removed]",
      "text/plain": [
       "<Figure size 360x360 with 1 Axes>"
      ]
     },
     "metadata": {
      "needs_background": "light"
     },
     "output_type": "display_data"
    }
   ],
   "source": [
    "freq_plot('marital')"
   ]
  },
  {
   "cell_type": "code",
   "execution_count": 20,
   "metadata": {},
   "outputs": [
    {
     "data": {
      "image/png": "[encoded data removed]",
      "text/plain": [
       "<Figure size 288x288 with 1 Axes>"
      ]
     },
     "metadata": {
      "needs_background": "light"
     },
     "output_type": "display_data"
    }
   ],
   "source": [
    "popwsy_plot('marital')"
   ]
  },
  {
   "cell_type": "markdown",
   "metadata": {},
   "source": [
    "### According to that unknown martial is rare and it behave like single we can put them in one variable together for dimensional reduction"
   ]
  },
  {
   "cell_type": "code",
   "execution_count": 21,
   "metadata": {},
   "outputs": [],
   "source": [
    "df.loc[df['marital'] == 'unknown','marital'] = 'single'"
   ]
  },
  {
   "cell_type": "code",
   "execution_count": 22,
   "metadata": {},
   "outputs": [
    {
     "data": {
      "text/plain": [
       "array(['married', 'single', 'divorced'], dtype=object)"
      ]
     },
     "execution_count": 22,
     "metadata": {},
     "output_type": "execute_result"
    }
   ],
   "source": [
    "df['marital'].unique()"
   ]
  },
  {
   "cell_type": "markdown",
   "metadata": {},
   "source": [
    "## Education variable"
   ]
  },
  {
   "cell_type": "code",
   "execution_count": 23,
   "metadata": {},
   "outputs": [
    {
     "data": {
      "image/png": "[encoded data removed]",
      "text/plain": [
       "<Figure size 720x360 with 1 Axes>"
      ]
     },
     "metadata": {
      "needs_background": "light"
     },
     "output_type": "display_data"
    }
   ],
   "source": [
    "freq_plot('education', (10, 5))"
   ]
  },
  {
   "cell_type": "code",
   "execution_count": 24,
   "metadata": {},
   "outputs": [
    {
     "data": {
      "image/png": "[encoded data removed]",
      "text/plain": [
       "<Figure size 720x288 with 1 Axes>"
      ]
     },
     "metadata": {
      "needs_background": "light"
     },
     "output_type": "display_data"
    }
   ],
   "source": [
    "popwsy_plot('education', (10, 4))"
   ]
  },
  {
   "cell_type": "markdown",
   "metadata": {},
   "source": [
    "## Default variable\n",
    "### has credit in default?"
   ]
  },
  {
   "cell_type": "code",
   "execution_count": 25,
   "metadata": {},
   "outputs": [
    {
     "data": {
      "image/png": "[encoded data removed]",
      "text/plain": [
       "<Figure size 288x216 with 1 Axes>"
      ]
     },
     "metadata": {
      "needs_background": "light"
     },
     "output_type": "display_data"
    }
   ],
   "source": [
    "freq_plot('default', (4,3))"
   ]
  },
  {
   "cell_type": "code",
   "execution_count": 26,
   "metadata": {},
   "outputs": [
    {
     "data": {
      "image/png": "[encoded data removed]",
      "text/plain": [
       "<Figure size 288x288 with 1 Axes>"
      ]
     },
     "metadata": {
      "needs_background": "light"
     },
     "output_type": "display_data"
    }
   ],
   "source": [
    "popwsy_plot('default')"
   ]
  },
  {
   "cell_type": "code",
   "execution_count": 27,
   "metadata": {},
   "outputs": [],
   "source": [
    "## Badan emtehan konam null bedam be unknown ha va simpleimputer bezanam rush"
   ]
  },
  {
   "cell_type": "markdown",
   "metadata": {},
   "source": [
    "### Because yes in defaul variable is very rare We combine it with unknown for dimension reduction and avoiding over fiting"
   ]
  },
  {
   "cell_type": "code",
   "execution_count": 28,
   "metadata": {},
   "outputs": [],
   "source": [
    "df.loc[df['default'] == 'unknown', 'default'] = 'unknown-yes'\n",
    "df.loc[(df['default'] == 'yes'), 'default'] = 'unknown-yes'\n",
    "df.loc[(df['default'] == 'no'), 'default'] = 'default-no'"
   ]
  },
  {
   "cell_type": "markdown",
   "metadata": {},
   "source": [
    "## Housing variable\n",
    "### has housing loan? "
   ]
  },
  {
   "cell_type": "code",
   "execution_count": 29,
   "metadata": {},
   "outputs": [
    {
     "data": {
      "image/png": "[encoded data removed]",
      "text/plain": [
       "<Figure size 288x288 with 1 Axes>"
      ]
     },
     "metadata": {
      "needs_background": "light"
     },
     "output_type": "display_data"
    }
   ],
   "source": [
    "popwsy_plot('housing')"
   ]
  },
  {
   "cell_type": "markdown",
   "metadata": {},
   "source": [
    "### It seems that this feature is not so much usable\n",
    "### So maybe later we drope it"
   ]
  },
  {
   "cell_type": "markdown",
   "metadata": {},
   "source": [
    "## Loan variable\n",
    "### has personal loan?"
   ]
  },
  {
   "cell_type": "code",
   "execution_count": 30,
   "metadata": {},
   "outputs": [
    {
     "data": {
      "image/png": "[encoded data removed]",
      "text/plain": [
       "<Figure size 288x288 with 1 Axes>"
      ]
     },
     "metadata": {
      "needs_background": "light"
     },
     "output_type": "display_data"
    }
   ],
   "source": [
    "freq_plot('loan', (4, 4))"
   ]
  },
  {
   "cell_type": "code",
   "execution_count": 31,
   "metadata": {},
   "outputs": [
    {
     "data": {
      "image/png": "[encoded data removed]",
      "text/plain": [
       "<Figure size 288x288 with 1 Axes>"
      ]
     },
     "metadata": {
      "needs_background": "light"
     },
     "output_type": "display_data"
    }
   ],
   "source": [
    "popwsy_plot('loan')"
   ]
  },
  {
   "cell_type": "markdown",
   "metadata": {},
   "source": [
    "### it seems that loan is not a good predictor neither\n",
    "### So maybe later we drope it"
   ]
  },
  {
   "cell_type": "markdown",
   "metadata": {},
   "source": [
    "## contact variable\n",
    "### contact communication type "
   ]
  },
  {
   "cell_type": "code",
   "execution_count": 32,
   "metadata": {},
   "outputs": [
    {
     "data": {
      "image/png": "[encoded data removed]",
      "text/plain": [
       "<Figure size 288x288 with 1 Axes>"
      ]
     },
     "metadata": {
      "needs_background": "light"
     },
     "output_type": "display_data"
    }
   ],
   "source": [
    "freq_plot('contact', (4, 4))"
   ]
  },
  {
   "cell_type": "code",
   "execution_count": 33,
   "metadata": {},
   "outputs": [
    {
     "data": {
      "image/png": "[encoded data removed]",
      "text/plain": [
       "<Figure size 288x288 with 1 Axes>"
      ]
     },
     "metadata": {
      "needs_background": "light"
     },
     "output_type": "display_data"
    }
   ],
   "source": [
    "popwsy_plot('contact')"
   ]
  },
  {
   "cell_type": "markdown",
   "metadata": {},
   "source": [
    "### contact shuld be a very effective variable"
   ]
  },
  {
   "cell_type": "markdown",
   "metadata": {},
   "source": [
    "## Month variable\n",
    "### last contact month of year "
   ]
  },
  {
   "cell_type": "code",
   "execution_count": 34,
   "metadata": {},
   "outputs": [
    {
     "data": {
      "image/png": "[encoded data removed]",
      "text/plain": [
       "<Figure size 576x288 with 1 Axes>"
      ]
     },
     "metadata": {
      "needs_background": "light"
     },
     "output_type": "display_data"
    }
   ],
   "source": [
    "freq_plot('month', (8, 4))"
   ]
  },
  {
   "cell_type": "code",
   "execution_count": 35,
   "metadata": {},
   "outputs": [
    {
     "data": {
      "image/png": "[encoded data removed]",
      "text/plain": [
       "<Figure size 576x288 with 1 Axes>"
      ]
     },
     "metadata": {
      "needs_background": "light"
     },
     "output_type": "display_data"
    }
   ],
   "source": [
    "popwsy_plot('month', (8, 4))"
   ]
  },
  {
   "cell_type": "markdown",
   "metadata": {},
   "source": [
    "### It seem months which has less frequently had a better chance too say yes to camapaign"
   ]
  },
  {
   "cell_type": "markdown",
   "metadata": {},
   "source": [
    "## Day_of_week\n",
    "### last contact day of the week "
   ]
  },
  {
   "cell_type": "code",
   "execution_count": 36,
   "metadata": {},
   "outputs": [
    {
     "data": {
      "text/plain": [
       "thu    8623\n",
       "mon    8514\n",
       "wed    8134\n",
       "tue    8090\n",
       "fri    7827\n",
       "Name: day_of_week, dtype: int64"
      ]
     },
     "execution_count": 36,
     "metadata": {},
     "output_type": "execute_result"
    }
   ],
   "source": [
    "df['day_of_week'].value_counts()"
   ]
  },
  {
   "cell_type": "code",
   "execution_count": 37,
   "metadata": {
    "scrolled": true
   },
   "outputs": [
    {
     "data": {
      "image/png": "[encoded data removed]",
      "text/plain": [
       "<Figure size 432x288 with 1 Axes>"
      ]
     },
     "metadata": {
      "needs_background": "light"
     },
     "output_type": "display_data"
    }
   ],
   "source": [
    "popwsy_plot('day_of_week', (6, 4))"
   ]
  },
  {
   "cell_type": "markdown",
   "metadata": {},
   "source": [
    "## Campaign variable\n",
    "### number of contacts performed during this campaign and for this client (numeric, includes last contact)"
   ]
  },
  {
   "cell_type": "code",
   "execution_count": 38,
   "metadata": {},
   "outputs": [
    {
     "data": {
      "text/plain": [
       "array([ 1,  2,  3,  4,  5,  6,  7,  8,  9, 10, 11, 12, 13, 14, 15, 16, 17,\n",
       "       18, 19, 20, 21, 22, 23, 24, 25, 26, 27, 28, 29, 30, 31, 32, 33, 34,\n",
       "       35, 37, 39, 40, 41, 42, 43, 56], dtype=int64)"
      ]
     },
     "execution_count": 38,
     "metadata": {},
     "output_type": "execute_result"
    }
   ],
   "source": [
    "np.sort(df['campaign'].unique())"
   ]
  },
  {
   "cell_type": "code",
   "execution_count": 39,
   "metadata": {},
   "outputs": [
    {
     "data": {
      "text/plain": [
       "(0.0, 7.0)"
      ]
     },
     "execution_count": 39,
     "metadata": {},
     "output_type": "execute_result"
    },
    {
     "data": {
      "image/png": "[encoded data removed]",
      "text/plain": [
       "<Figure size 432x288 with 1 Axes>"
      ]
     },
     "metadata": {
      "needs_background": "light"
     },
     "output_type": "display_data"
    }
   ],
   "source": [
    "sns.boxplot(df['y'], df['campaign'])\n",
    "plt.ylim(0, 7)"
   ]
  },
  {
   "cell_type": "markdown",
   "metadata": {},
   "source": [
    "### opposite of what we think people who did not said yes to campeign had been in more campeingns before"
   ]
  },
  {
   "cell_type": "markdown",
   "metadata": {},
   "source": [
    "## Pdays variable\n",
    "### number of days that passed by after the client was last contacted from a previous campaign "
   ]
  },
  {
   "cell_type": "code",
   "execution_count": 40,
   "metadata": {},
   "outputs": [
    {
     "data": {
      "image/png": "[encoded data removed]",
      "text/plain": [
       "<Figure size 288x288 with 1 Axes>"
      ]
     },
     "metadata": {
      "needs_background": "light"
     },
     "output_type": "display_data"
    }
   ],
   "source": [
    "pday_agg= df.groupby('y_1').aggregate([np.mean])\n",
    "\n",
    "plt.figure(figsize= (4, 4))\n",
    "plt.bar(range(len(pday_agg)), pday_agg[\"pdays\", \"mean\"])\n",
    "plt.xticks(range(len(pday_agg)), [\"No\", \"yes\"])\n",
    "plt.xlabel('y')\n",
    "plt.ylabel(\"mean of pdays\")\n",
    "plt.tight_layout()"
   ]
  },
  {
   "cell_type": "markdown",
   "metadata": {},
   "source": [
    "### mean of pdays of people who said yes is less"
   ]
  },
  {
   "cell_type": "markdown",
   "metadata": {},
   "source": [
    "## previous variable\n",
    "### number of contacts performed before this campaign and for this client "
   ]
  },
  {
   "cell_type": "code",
   "execution_count": 41,
   "metadata": {},
   "outputs": [
    {
     "data": {
      "text/plain": [
       "0    35563\n",
       "1     4561\n",
       "2      754\n",
       "3      216\n",
       "4       70\n",
       "5       18\n",
       "6        5\n",
       "7        1\n",
       "Name: previous, dtype: int64"
      ]
     },
     "execution_count": 41,
     "metadata": {},
     "output_type": "execute_result"
    }
   ],
   "source": [
    "df['previous'].value_counts()"
   ]
  },
  {
   "cell_type": "code",
   "execution_count": 42,
   "metadata": {},
   "outputs": [],
   "source": [
    "df.loc[df['previous']== 4, 'previous'] = 4.5\n",
    "df.loc[df['previous'] == 5, 'previous'] = 4.5\n",
    "df.loc[df['previous'] == 6, 'previous'] = 4.5\n",
    "df.loc[df['previous'] == 7, 'previous'] = 4.5"
   ]
  },
  {
   "cell_type": "markdown",
   "metadata": {},
   "source": [
    "## \tPoutcome variable\n",
    "### outcome of the previous marketing campaign "
   ]
  },
  {
   "cell_type": "code",
   "execution_count": 43,
   "metadata": {},
   "outputs": [
    {
     "data": {
      "text/plain": [
       "nonexistent    35563\n",
       "failure         4252\n",
       "success         1373\n",
       "Name: poutcome, dtype: int64"
      ]
     },
     "execution_count": 43,
     "metadata": {},
     "output_type": "execute_result"
    }
   ],
   "source": [
    "df['poutcome'].value_counts()"
   ]
  },
  {
   "cell_type": "code",
   "execution_count": 44,
   "metadata": {},
   "outputs": [
    {
     "data": {
      "image/png": "[encoded data removed]",
      "text/plain": [
       "<Figure size 288x288 with 1 Axes>"
      ]
     },
     "metadata": {
      "needs_background": "light"
     },
     "output_type": "display_data"
    }
   ],
   "source": [
    "popwsy_plot('poutcome')"
   ]
  },
  {
   "cell_type": "markdown",
   "metadata": {},
   "source": [
    "### It should be a great predictor, \n",
    "### It is cool that probality of say yes too campeign for people who this campeign is their first campeign in this bank is less than people which their last camepign failed."
   ]
  },
  {
   "cell_type": "markdown",
   "metadata": {},
   "source": [
    "## Emp.var.rate variable\n",
    "### employment variation rate - quarterly indicator "
   ]
  },
  {
   "cell_type": "code",
   "execution_count": 45,
   "metadata": {},
   "outputs": [
    {
     "data": {
      "text/plain": [
       " 1.4    16234\n",
       "-1.8     9184\n",
       " 1.1     7763\n",
       "-0.1     3683\n",
       "-2.9     1663\n",
       "-3.4     1071\n",
       "-1.7      773\n",
       "-1.1      635\n",
       "-3.0      172\n",
       "-0.2       10\n",
       "Name: emp.var.rate, dtype: int64"
      ]
     },
     "execution_count": 45,
     "metadata": {},
     "output_type": "execute_result"
    }
   ],
   "source": [
    "df['emp.var.rate'].value_counts()"
   ]
  },
  {
   "cell_type": "code",
   "execution_count": 46,
   "metadata": {},
   "outputs": [
    {
     "data": {
      "text/plain": [
       "<matplotlib.axes._subplots.AxesSubplot at 0xfa2bd1f5c8>"
      ]
     },
     "execution_count": 46,
     "metadata": {},
     "output_type": "execute_result"
    },
    {
     "data": {
      "image/png": "[encoded data removed]",
      "text/plain": [
       "<Figure size 432x288 with 1 Axes>"
      ]
     },
     "metadata": {
      "needs_background": "light"
     },
     "output_type": "display_data"
    }
   ],
   "source": [
    "sns.boxplot(df['y'], df['emp.var.rate'])"
   ]
  },
  {
   "cell_type": "markdown",
   "metadata": {},
   "source": [
    "### people who said yes to the campaign usually has less emp.var.rate"
   ]
  },
  {
   "cell_type": "markdown",
   "metadata": {},
   "source": [
    "## Cons.price.idx\n",
    "### consumer price index - monthly indicator "
   ]
  },
  {
   "cell_type": "code",
   "execution_count": 47,
   "metadata": {},
   "outputs": [
    {
     "data": {
      "text/plain": [
       "93.994    7763\n",
       "93.918    6685\n",
       "92.893    5794\n",
       "93.444    5175\n",
       "94.465    4374\n",
       "93.200    3616\n",
       "93.075    2458\n",
       "92.201     770\n",
       "92.963     715\n",
       "92.431     447\n",
       "92.649     357\n",
       "94.215     311\n",
       "94.199     303\n",
       "92.843     282\n",
       "92.379     267\n",
       "93.369     264\n",
       "94.027     233\n",
       "94.055     229\n",
       "93.876     212\n",
       "94.601     204\n",
       "92.469     178\n",
       "93.749     174\n",
       "92.713     172\n",
       "94.767     128\n",
       "93.798      67\n",
       "92.756      10\n",
       "Name: cons.price.idx, dtype: int64"
      ]
     },
     "execution_count": 47,
     "metadata": {},
     "output_type": "execute_result"
    }
   ],
   "source": [
    "df['cons.price.idx'].value_counts()"
   ]
  },
  {
   "cell_type": "code",
   "execution_count": 48,
   "metadata": {},
   "outputs": [
    {
     "data": {
      "text/plain": [
       "<matplotlib.axes._subplots.AxesSubplot at 0xfa2b34d5c8>"
      ]
     },
     "execution_count": 48,
     "metadata": {},
     "output_type": "execute_result"
    },
    {
     "data": {
      "image/png": "[encoded data removed]",
      "text/plain": [
       "<Figure size 432x288 with 1 Axes>"
      ]
     },
     "metadata": {
      "needs_background": "light"
     },
     "output_type": "display_data"
    }
   ],
   "source": [
    "sns.boxplot(df['y'], df['cons.price.idx'])"
   ]
  },
  {
   "cell_type": "markdown",
   "metadata": {},
   "source": [
    "### So here we can see that median in people who said yes is lower"
   ]
  },
  {
   "cell_type": "markdown",
   "metadata": {},
   "source": [
    "## Cons.conf.idx \n",
    "### consumer confidence index - monthly indicator (numeric)"
   ]
  },
  {
   "cell_type": "code",
   "execution_count": 49,
   "metadata": {
    "scrolled": true
   },
   "outputs": [
    {
     "data": {
      "text/plain": [
       "<matplotlib.axes._subplots.AxesSubplot at 0xfa2bcbcf48>"
      ]
     },
     "execution_count": 49,
     "metadata": {},
     "output_type": "execute_result"
    },
    {
     "data": {
      "image/png": "[encoded data removed]",
      "text/plain": [
       "<Figure size 432x288 with 1 Axes>"
      ]
     },
     "metadata": {
      "needs_background": "light"
     },
     "output_type": "display_data"
    }
   ],
   "source": [
    "sns.boxplot(df['y'], df['cons.conf.idx'])"
   ]
  },
  {
   "cell_type": "markdown",
   "metadata": {},
   "source": [
    "### So here we can see that median in people who said yes is upper"
   ]
  },
  {
   "cell_type": "markdown",
   "metadata": {},
   "source": [
    "## Euribor3m\n",
    "### euribor 3 month rate - daily indicator (numeric)"
   ]
  },
  {
   "cell_type": "code",
   "execution_count": 50,
   "metadata": {
    "scrolled": true
   },
   "outputs": [
    {
     "data": {
      "image/png": "[encoded data removed]",
      "text/plain": [
       "<Figure size 432x288 with 1 Axes>"
      ]
     },
     "metadata": {
      "needs_background": "light"
     },
     "output_type": "display_data"
    }
   ],
   "source": [
    "sns.boxplot(df['y'], df['euribor3m'])\n",
    "plt.tight_layout()"
   ]
  },
  {
   "cell_type": "markdown",
   "metadata": {},
   "source": [
    "### So here we can see that median in people who said yes is very lower so it should be a very good predictor"
   ]
  },
  {
   "cell_type": "markdown",
   "metadata": {},
   "source": [
    "## Nr.employed\n",
    "### number of employees - quarterly indicator (numeric)"
   ]
  },
  {
   "cell_type": "code",
   "execution_count": 51,
   "metadata": {},
   "outputs": [
    {
     "data": {
      "text/plain": [
       "<matplotlib.axes._subplots.AxesSubplot at 0xfa2bf23d48>"
      ]
     },
     "execution_count": 51,
     "metadata": {},
     "output_type": "execute_result"
    },
    {
     "data": {
      "image/png": "[encoded data removed]",
      "text/plain": [
       "<Figure size 432x288 with 1 Axes>"
      ]
     },
     "metadata": {
      "needs_background": "light"
     },
     "output_type": "display_data"
    }
   ],
   "source": [
    "sns.boxplot(df['y'], df['nr.employed'])"
   ]
  },
  {
   "cell_type": "markdown",
   "metadata": {},
   "source": [
    "## Heat Map: Visualizing Correlation"
   ]
  },
  {
   "cell_type": "code",
   "execution_count": 52,
   "metadata": {},
   "outputs": [],
   "source": [
    "df_numeric= df[['previous', 'pdays', 'nr.employed', 'euribor3m', 'emp.var.rate', \n",
    "    'cons.price.idx', 'cons.conf.idx', 'campaign', 'age']]"
   ]
  },
  {
   "cell_type": "code",
   "execution_count": 53,
   "metadata": {},
   "outputs": [
    {
     "data": {
      "image/png": "[encoded data removed]",
      "text/plain": [
       "<Figure size 864x864 with 2 Axes>"
      ]
     },
     "metadata": {
      "needs_background": "light"
     },
     "output_type": "display_data"
    }
   ],
   "source": [
    "plt.figure(figsize= (12, 12))\n",
    "sns.heatmap(df_numeric.corr(), annot = True, vmin=-1, vmax=1, center= 0, \n",
    "           cmap= 'bwr')\n",
    "plt.tight_layout()"
   ]
  },
  {
   "cell_type": "markdown",
   "metadata": {},
   "source": [
    "## Variables with high correlation are very bad and we should do some thing about them\n",
    "## according to heat map 3 variables: Nr.employed, Euribor3m, Emp.var.rate two by two has more than .90 correlation \n",
    "### We can choose one of them and remove the rest, according to plots we choosed Nr.employed"
   ]
  },
  {
   "cell_type": "markdown",
   "metadata": {},
   "source": [
    "# now we drop columns that seems useless or we made them dummy:\n"
   ]
  },
  {
   "cell_type": "code",
   "execution_count": 54,
   "metadata": {
    "scrolled": true
   },
   "outputs": [],
   "source": [
    "#df.drop(columns=['loan','poutcome', 'contact', 'month',\n",
    "#                 'day_of_week', 'euribor3m', 'emp.var.rate', 'y_1'], inplace= True)\n"
   ]
  },
  {
   "cell_type": "code",
   "execution_count": 55,
   "metadata": {},
   "outputs": [],
   "source": [
    "df.drop(columns=['y_1', 'duration'], inplace= True)"
   ]
  },
  {
   "cell_type": "markdown",
   "metadata": {},
   "source": [
    "### We removed duration variable because: this attribute highly affects the output target (e.g., if duration=0 then y='no'). Yet, the duration is not known before a call is performed. Also, after the end of the call y is obviously known. Thus, this input should only be included for benchmark purposes and should be discarded if the intention is to have a realistic predictive model."
   ]
  },
  {
   "cell_type": "code",
   "execution_count": 56,
   "metadata": {},
   "outputs": [
    {
     "data": {
      "text/html": [
       "<div>\n",
       "<style scoped>\n",
       "    .dataframe tbody tr th:only-of-type {\n",
       "        vertical-align: middle;\n",
       "    }\n",
       "\n",
       "    .dataframe tbody tr th {\n",
       "        vertical-align: top;\n",
       "    }\n",
       "\n",
       "    .dataframe thead th {\n",
       "        text-align: right;\n",
       "    }\n",
       "</style>\n",
       "<table border=\"1\" class=\"dataframe\">\n",
       "  <thead>\n",
       "    <tr style=\"text-align: right;\">\n",
       "      <th></th>\n",
       "      <th>age</th>\n",
       "      <th>job</th>\n",
       "      <th>marital</th>\n",
       "      <th>education</th>\n",
       "      <th>default</th>\n",
       "      <th>housing</th>\n",
       "      <th>loan</th>\n",
       "      <th>contact</th>\n",
       "      <th>month</th>\n",
       "      <th>day_of_week</th>\n",
       "      <th>campaign</th>\n",
       "      <th>pdays</th>\n",
       "      <th>previous</th>\n",
       "      <th>poutcome</th>\n",
       "      <th>emp.var.rate</th>\n",
       "      <th>cons.price.idx</th>\n",
       "      <th>cons.conf.idx</th>\n",
       "      <th>euribor3m</th>\n",
       "      <th>nr.employed</th>\n",
       "      <th>y</th>\n",
       "    </tr>\n",
       "  </thead>\n",
       "  <tbody>\n",
       "    <tr>\n",
       "      <th>0</th>\n",
       "      <td>72</td>\n",
       "      <td>housemaid</td>\n",
       "      <td>married</td>\n",
       "      <td>basic.4y</td>\n",
       "      <td>default-no</td>\n",
       "      <td>no</td>\n",
       "      <td>no</td>\n",
       "      <td>telephone</td>\n",
       "      <td>may</td>\n",
       "      <td>mon</td>\n",
       "      <td>1</td>\n",
       "      <td>999</td>\n",
       "      <td>0.0</td>\n",
       "      <td>nonexistent</td>\n",
       "      <td>1.1</td>\n",
       "      <td>93.994</td>\n",
       "      <td>-36.4</td>\n",
       "      <td>4.857</td>\n",
       "      <td>5191.0</td>\n",
       "      <td>no</td>\n",
       "    </tr>\n",
       "    <tr>\n",
       "      <th>1</th>\n",
       "      <td>72</td>\n",
       "      <td>services</td>\n",
       "      <td>married</td>\n",
       "      <td>high.school</td>\n",
       "      <td>unknown-yes</td>\n",
       "      <td>no</td>\n",
       "      <td>no</td>\n",
       "      <td>telephone</td>\n",
       "      <td>may</td>\n",
       "      <td>mon</td>\n",
       "      <td>1</td>\n",
       "      <td>999</td>\n",
       "      <td>0.0</td>\n",
       "      <td>nonexistent</td>\n",
       "      <td>1.1</td>\n",
       "      <td>93.994</td>\n",
       "      <td>-36.4</td>\n",
       "      <td>4.857</td>\n",
       "      <td>5191.0</td>\n",
       "      <td>no</td>\n",
       "    </tr>\n",
       "    <tr>\n",
       "      <th>2</th>\n",
       "      <td>40</td>\n",
       "      <td>services</td>\n",
       "      <td>married</td>\n",
       "      <td>high.school</td>\n",
       "      <td>default-no</td>\n",
       "      <td>yes</td>\n",
       "      <td>no</td>\n",
       "      <td>telephone</td>\n",
       "      <td>may</td>\n",
       "      <td>mon</td>\n",
       "      <td>1</td>\n",
       "      <td>999</td>\n",
       "      <td>0.0</td>\n",
       "      <td>nonexistent</td>\n",
       "      <td>1.1</td>\n",
       "      <td>93.994</td>\n",
       "      <td>-36.4</td>\n",
       "      <td>4.857</td>\n",
       "      <td>5191.0</td>\n",
       "      <td>no</td>\n",
       "    </tr>\n",
       "    <tr>\n",
       "      <th>3</th>\n",
       "      <td>40</td>\n",
       "      <td>admin.</td>\n",
       "      <td>married</td>\n",
       "      <td>basic.6y</td>\n",
       "      <td>default-no</td>\n",
       "      <td>no</td>\n",
       "      <td>no</td>\n",
       "      <td>telephone</td>\n",
       "      <td>may</td>\n",
       "      <td>mon</td>\n",
       "      <td>1</td>\n",
       "      <td>999</td>\n",
       "      <td>0.0</td>\n",
       "      <td>nonexistent</td>\n",
       "      <td>1.1</td>\n",
       "      <td>93.994</td>\n",
       "      <td>-36.4</td>\n",
       "      <td>4.857</td>\n",
       "      <td>5191.0</td>\n",
       "      <td>no</td>\n",
       "    </tr>\n",
       "    <tr>\n",
       "      <th>4</th>\n",
       "      <td>72</td>\n",
       "      <td>services</td>\n",
       "      <td>married</td>\n",
       "      <td>high.school</td>\n",
       "      <td>default-no</td>\n",
       "      <td>no</td>\n",
       "      <td>yes</td>\n",
       "      <td>telephone</td>\n",
       "      <td>may</td>\n",
       "      <td>mon</td>\n",
       "      <td>1</td>\n",
       "      <td>999</td>\n",
       "      <td>0.0</td>\n",
       "      <td>nonexistent</td>\n",
       "      <td>1.1</td>\n",
       "      <td>93.994</td>\n",
       "      <td>-36.4</td>\n",
       "      <td>4.857</td>\n",
       "      <td>5191.0</td>\n",
       "      <td>no</td>\n",
       "    </tr>\n",
       "  </tbody>\n",
       "</table>\n",
       "</div>"
      ],
      "text/plain": [
       "   age        job  marital    education      default housing loan    contact  \\\n",
       "0   72  housemaid  married     basic.4y   default-no      no   no  telephone   \n",
       "1   72   services  married  high.school  unknown-yes      no   no  telephone   \n",
       "2   40   services  married  high.school   default-no     yes   no  telephone   \n",
       "3   40     admin.  married     basic.6y   default-no      no   no  telephone   \n",
       "4   72   services  married  high.school   default-no      no  yes  telephone   \n",
       "\n",
       "  month day_of_week  campaign  pdays  previous     poutcome  emp.var.rate  \\\n",
       "0   may         mon         1    999       0.0  nonexistent           1.1   \n",
       "1   may         mon         1    999       0.0  nonexistent           1.1   \n",
       "2   may         mon         1    999       0.0  nonexistent           1.1   \n",
       "3   may         mon         1    999       0.0  nonexistent           1.1   \n",
       "4   may         mon         1    999       0.0  nonexistent           1.1   \n",
       "\n",
       "   cons.price.idx  cons.conf.idx  euribor3m  nr.employed   y  \n",
       "0          93.994          -36.4      4.857       5191.0  no  \n",
       "1          93.994          -36.4      4.857       5191.0  no  \n",
       "2          93.994          -36.4      4.857       5191.0  no  \n",
       "3          93.994          -36.4      4.857       5191.0  no  \n",
       "4          93.994          -36.4      4.857       5191.0  no  "
      ]
     },
     "execution_count": 56,
     "metadata": {},
     "output_type": "execute_result"
    }
   ],
   "source": [
    "df.head()"
   ]
  },
  {
   "cell_type": "markdown",
   "metadata": {},
   "source": [
    "# Y variable"
   ]
  },
  {
   "cell_type": "code",
   "execution_count": 57,
   "metadata": {},
   "outputs": [
    {
     "data": {
      "text/plain": [
       "no     36548\n",
       "yes     4640\n",
       "Name: y, dtype: int64"
      ]
     },
     "execution_count": 57,
     "metadata": {},
     "output_type": "execute_result"
    }
   ],
   "source": [
    "df['y'].value_counts()"
   ]
  },
  {
   "cell_type": "markdown",
   "metadata": {},
   "source": [
    "# Split data to train and test set"
   ]
  },
  {
   "cell_type": "code",
   "execution_count": 58,
   "metadata": {},
   "outputs": [],
   "source": [
    "from sklearn.model_selection import train_test_split\n",
    "from sklearn.model_selection import cross_val_score"
   ]
  },
  {
   "cell_type": "code",
   "execution_count": 59,
   "metadata": {},
   "outputs": [],
   "source": [
    "X = df.drop(columns= 'y')\n",
    "y = df['y']"
   ]
  },
  {
   "cell_type": "code",
   "execution_count": 60,
   "metadata": {},
   "outputs": [
    {
     "name": "stdout",
     "output_type": "stream",
     "text": [
      "(41188, 19)\n"
     ]
    },
    {
     "data": {
      "text/plain": [
       "(41188,)"
      ]
     },
     "execution_count": 60,
     "metadata": {},
     "output_type": "execute_result"
    }
   ],
   "source": [
    "print(X.shape)\n",
    "y.shape"
   ]
  },
  {
   "cell_type": "code",
   "execution_count": 61,
   "metadata": {},
   "outputs": [],
   "source": [
    "X_trainval, X_test, y_trainval, y_test= train_test_split(X, y== 'yes', stratify= y, random_state=42)"
   ]
  },
  {
   "cell_type": "markdown",
   "metadata": {},
   "source": [
    "## So Our Naive Benchmark Is:"
   ]
  },
  {
   "cell_type": "code",
   "execution_count": 62,
   "metadata": {},
   "outputs": [
    {
     "data": {
      "text/plain": [
       "0.8873458288821987"
      ]
     },
     "execution_count": 62,
     "metadata": {},
     "output_type": "execute_result"
    }
   ],
   "source": [
    "(df[df['y']== 'no'].shape[0])/df.shape[0]"
   ]
  },
  {
   "cell_type": "markdown",
   "metadata": {},
   "source": [
    "### It is accuracy when we consider all out comes as no it seem nice too us but here our Recall for 'yes' would be 0 that is too bad. and We know that predicting people who would say yes is more important"
   ]
  },
  {
   "cell_type": "markdown",
   "metadata": {},
   "source": [
    "# Some Preprocessing"
   ]
  },
  {
   "cell_type": "code",
   "execution_count": 63,
   "metadata": {},
   "outputs": [],
   "source": [
    "from sklearn.preprocessing import PowerTransformer, StandardScaler, MinMaxScaler, RobustScaler, OneHotEncoder\n",
    "from sklearn.compose import ColumnTransformer\n",
    "from sklearn.pipeline import Pipeline"
   ]
  },
  {
   "cell_type": "code",
   "execution_count": 64,
   "metadata": {},
   "outputs": [
    {
     "name": "stdout",
     "output_type": "stream",
     "text": [
      "Index(['job', 'marital', 'education', 'default', 'housing', 'loan', 'contact',\n",
      "       'month', 'day_of_week', 'poutcome'],\n",
      "      dtype='object')\n",
      "Index(['age', 'campaign', 'pdays', 'previous', 'emp.var.rate',\n",
      "       'cons.price.idx', 'cons.conf.idx', 'euribor3m', 'nr.employed'],\n",
      "      dtype='object')\n"
     ]
    }
   ],
   "source": [
    "is_cat= X.dtypes== object\n",
    "categories= is_cat[is_cat==True].index\n",
    "numerics= is_cat[is_cat==False].index\n",
    "print(categories)\n",
    "print(numerics)"
   ]
  },
  {
   "cell_type": "code",
   "execution_count": 65,
   "metadata": {},
   "outputs": [],
   "source": [
    "categorical_preprocess= Pipeline([\n",
    "    ('one-hot', OneHotEncoder(handle_unknown= 'ignore'))\n",
    "])\n",
    "numerical_preprocess= Pipeline([\n",
    "#    ('power', PowerTransformer(method= 'box-cox')),\n",
    "    ('scaler', StandardScaler())\n",
    "])"
   ]
  },
  {
   "cell_type": "code",
   "execution_count": 66,
   "metadata": {},
   "outputs": [],
   "source": [
    "preprocess= ColumnTransformer([\n",
    "    ('num', numerical_preprocess, numerics),\n",
    "    ('cat', categorical_preprocess, categories)\n",
    "])"
   ]
  },
  {
   "cell_type": "code",
   "execution_count": 67,
   "metadata": {},
   "outputs": [],
   "source": [
    "preprocess_tree= ColumnTransformer([\n",
    "    ('num', 'passthrough', numerics),\n",
    "    ('cat', categorical_preprocess, categories)\n",
    "])"
   ]
  },
  {
   "cell_type": "markdown",
   "metadata": {},
   "source": [
    "# Some predictive Models:"
   ]
  },
  {
   "cell_type": "code",
   "execution_count": 68,
   "metadata": {},
   "outputs": [],
   "source": [
    "from sklearn.model_selection import GridSearchCV"
   ]
  },
  {
   "cell_type": "markdown",
   "metadata": {},
   "source": [
    "## 1: KNN"
   ]
  },
  {
   "cell_type": "markdown",
   "metadata": {},
   "source": [
    "# Logestic Regression"
   ]
  },
  {
   "cell_type": "code",
   "execution_count": 70,
   "metadata": {},
   "outputs": [],
   "source": [
    "from sklearn.linear_model import LogisticRegression"
   ]
  },
  {
   "cell_type": "code",
   "execution_count": 71,
   "metadata": {},
   "outputs": [],
   "source": [
    "pipe_Logistic= Pipeline([\n",
    "    ('prep', preprocess),\n",
    "    ('model', LogisticRegression())\n",
    "])"
   ]
  },
  {
   "cell_type": "code",
   "execution_count": 72,
   "metadata": {},
   "outputs": [],
   "source": [
    "params= {'model__C': np.logspace(-1, 2, 35),\n",
    "         'prep__num__scaler':[StandardScaler(), MinMaxScaler()]\n",
    "        }"
   ]
  },
  {
   "cell_type": "code",
   "execution_count": 73,
   "metadata": {},
   "outputs": [],
   "source": [
    "\n",
    "grid_Logistic= GridSearchCV(pipe_Logistic, param_grid= params,\n",
    "                            scoring={'AP': \"average_precision\", \"ac\": \"accuracy\"},\n",
    "                            refit= \"AP\", verbose= 1, n_jobs= 7,\n",
    "                            return_train_score= True, cv= 5)\n"
   ]
  },
  {
   "cell_type": "code",
   "execution_count": 74,
   "metadata": {},
   "outputs": [
    {
     "name": "stdout",
     "output_type": "stream",
     "text": [
      "Fitting 5 folds for each of 70 candidates, totalling 350 fits\n"
     ]
    },
    {
     "name": "stderr",
     "output_type": "stream",
     "text": [
      "[Parallel(n_jobs=7)]: Using backend LokyBackend with 7 concurrent workers.\n",
      "[Parallel(n_jobs=7)]: Done  36 tasks      | elapsed:   11.7s\n",
      "[Parallel(n_jobs=7)]: Done 186 tasks      | elapsed:   50.4s\n",
      "[Parallel(n_jobs=7)]: Done 350 out of 350 | elapsed:  1.6min finished\n",
      "F:\\Anaconda\\lib\\site-packages\\sklearn\\linear_model\\_logistic.py:940: ConvergenceWarning: lbfgs failed to converge (status=1):\n",
      "STOP: TOTAL NO. of ITERATIONS REACHED LIMIT.\n",
      "\n",
      "Increase the number of iterations (max_iter) or scale the data as shown in:\n",
      "    https://scikit-learn.org/stable/modules/preprocessing.html\n",
      "Please also refer to the documentation for alternative solver options:\n",
      "    https://scikit-learn.org/stable/modules/linear_model.html#logistic-regression\n",
      "  extra_warning_msg=_LOGISTIC_SOLVER_CONVERGENCE_MSG)\n"
     ]
    },
    {
     "data": {
      "text/plain": [
       "GridSearchCV(cv=5, error_score=nan,\n",
       "             estimator=Pipeline(memory=None,\n",
       "                                steps=[('prep',\n",
       "                                        ColumnTransformer(n_jobs=None,\n",
       "                                                          remainder='drop',\n",
       "                                                          sparse_threshold=0.3,\n",
       "                                                          transformer_weights=None,\n",
       "                                                          transformers=[('num',\n",
       "                                                                         Pipeline(memory=None,\n",
       "                                                                                  steps=[('scaler',\n",
       "                                                                                          StandardScaler(copy=True,\n",
       "                                                                                                         with_mean=True,\n",
       "                                                                                                         with_std=True))],\n",
       "                                                                                  verbose=False),\n",
       "                                                                         Index(['age', 'campaign', 'pdays', 'previous', 'em...\n",
       "        13.11133937,  16.06506004,  19.68419447,  24.118647  ,\n",
       "        29.55209235,  36.2095835 ,  44.36687331,  54.3618362 ,\n",
       "        66.60846291,  81.61400793, 100.        ]),\n",
       "                         'prep__num__scaler': [StandardScaler(copy=True,\n",
       "                                                              with_mean=True,\n",
       "                                                              with_std=True),\n",
       "                                               MinMaxScaler(copy=True,\n",
       "                                                            feature_range=(0,\n",
       "                                                                           1))]},\n",
       "             pre_dispatch='2*n_jobs', refit='AP', return_train_score=True,\n",
       "             scoring={'AP': 'average_precision', 'ac': 'accuracy'}, verbose=1)"
      ]
     },
     "execution_count": 74,
     "metadata": {},
     "output_type": "execute_result"
    }
   ],
   "source": [
    "grid_Logistic.fit(X_trainval, y_trainval)"
   ]
  },
  {
   "cell_type": "code",
   "execution_count": 75,
   "metadata": {},
   "outputs": [
    {
     "data": {
      "text/plain": [
       "{'model__C': 24.11864699640997,\n",
       " 'prep__num__scaler': StandardScaler(copy=True, with_mean=True, with_std=True)}"
      ]
     },
     "execution_count": 75,
     "metadata": {},
     "output_type": "execute_result"
    }
   ],
   "source": [
    "grid_Logistic.best_params_"
   ]
  },
  {
   "cell_type": "code",
   "execution_count": 76,
   "metadata": {},
   "outputs": [
    {
     "data": {
      "text/plain": [
       "0.4448480891432943"
      ]
     },
     "execution_count": 76,
     "metadata": {},
     "output_type": "execute_result"
    }
   ],
   "source": [
    "grid_Logistic.best_score_"
   ]
  },
  {
   "cell_type": "code",
   "execution_count": 77,
   "metadata": {},
   "outputs": [],
   "source": [
    "model_logistic= grid_Logistic.best_estimator_"
   ]
  },
  {
   "cell_type": "code",
   "execution_count": 78,
   "metadata": {},
   "outputs": [
    {
     "data": {
      "text/html": [
       "<div>\n",
       "<style scoped>\n",
       "    .dataframe tbody tr th:only-of-type {\n",
       "        vertical-align: middle;\n",
       "    }\n",
       "\n",
       "    .dataframe tbody tr th {\n",
       "        vertical-align: top;\n",
       "    }\n",
       "\n",
       "    .dataframe thead th {\n",
       "        text-align: right;\n",
       "    }\n",
       "</style>\n",
       "<table border=\"1\" class=\"dataframe\">\n",
       "  <thead>\n",
       "    <tr style=\"text-align: right;\">\n",
       "      <th></th>\n",
       "      <th>mean_fit_time</th>\n",
       "      <th>std_fit_time</th>\n",
       "      <th>mean_score_time</th>\n",
       "      <th>std_score_time</th>\n",
       "      <th>param_model__C</th>\n",
       "      <th>param_prep__num__scaler</th>\n",
       "      <th>params</th>\n",
       "      <th>split0_test_AP</th>\n",
       "      <th>split1_test_AP</th>\n",
       "      <th>split2_test_AP</th>\n",
       "      <th>...</th>\n",
       "      <th>mean_test_ac</th>\n",
       "      <th>std_test_ac</th>\n",
       "      <th>rank_test_ac</th>\n",
       "      <th>split0_train_ac</th>\n",
       "      <th>split1_train_ac</th>\n",
       "      <th>split2_train_ac</th>\n",
       "      <th>split3_train_ac</th>\n",
       "      <th>split4_train_ac</th>\n",
       "      <th>mean_train_ac</th>\n",
       "      <th>std_train_ac</th>\n",
       "    </tr>\n",
       "  </thead>\n",
       "  <tbody>\n",
       "    <tr>\n",
       "      <th>0</th>\n",
       "      <td>1.448225</td>\n",
       "      <td>0.033677</td>\n",
       "      <td>0.100273</td>\n",
       "      <td>0.005952</td>\n",
       "      <td>0.1</td>\n",
       "      <td>StandardScaler(copy=True, with_mean=True, with...</td>\n",
       "      <td>{'model__C': 0.1, 'prep__num__scaler': Standar...</td>\n",
       "      <td>0.423314</td>\n",
       "      <td>0.459303</td>\n",
       "      <td>0.446829</td>\n",
       "      <td>...</td>\n",
       "      <td>0.899550</td>\n",
       "      <td>0.001065</td>\n",
       "      <td>1</td>\n",
       "      <td>0.900656</td>\n",
       "      <td>0.899446</td>\n",
       "      <td>0.900741</td>\n",
       "      <td>0.899850</td>\n",
       "      <td>0.900093</td>\n",
       "      <td>0.900157</td>\n",
       "      <td>0.000489</td>\n",
       "    </tr>\n",
       "    <tr>\n",
       "      <th>1</th>\n",
       "      <td>1.034734</td>\n",
       "      <td>0.127446</td>\n",
       "      <td>0.128091</td>\n",
       "      <td>0.018442</td>\n",
       "      <td>0.1</td>\n",
       "      <td>MinMaxScaler(copy=True, feature_range=(0, 1))</td>\n",
       "      <td>{'model__C': 0.1, 'prep__num__scaler': MinMaxS...</td>\n",
       "      <td>0.418667</td>\n",
       "      <td>0.453154</td>\n",
       "      <td>0.442599</td>\n",
       "      <td>...</td>\n",
       "      <td>0.899032</td>\n",
       "      <td>0.001068</td>\n",
       "      <td>52</td>\n",
       "      <td>0.900332</td>\n",
       "      <td>0.899122</td>\n",
       "      <td>0.900214</td>\n",
       "      <td>0.899446</td>\n",
       "      <td>0.899405</td>\n",
       "      <td>0.899704</td>\n",
       "      <td>0.000479</td>\n",
       "    </tr>\n",
       "    <tr>\n",
       "      <th>2</th>\n",
       "      <td>1.338749</td>\n",
       "      <td>0.043839</td>\n",
       "      <td>0.108476</td>\n",
       "      <td>0.006948</td>\n",
       "      <td>0.122528</td>\n",
       "      <td>StandardScaler(copy=True, with_mean=True, with...</td>\n",
       "      <td>{'model__C': 0.12252798573828648, 'prep__num__...</td>\n",
       "      <td>0.423432</td>\n",
       "      <td>0.459285</td>\n",
       "      <td>0.446736</td>\n",
       "      <td>...</td>\n",
       "      <td>0.899421</td>\n",
       "      <td>0.000808</td>\n",
       "      <td>3</td>\n",
       "      <td>0.900494</td>\n",
       "      <td>0.899405</td>\n",
       "      <td>0.900741</td>\n",
       "      <td>0.899769</td>\n",
       "      <td>0.900174</td>\n",
       "      <td>0.900117</td>\n",
       "      <td>0.000482</td>\n",
       "    </tr>\n",
       "    <tr>\n",
       "      <th>3</th>\n",
       "      <td>1.048342</td>\n",
       "      <td>0.084090</td>\n",
       "      <td>0.128091</td>\n",
       "      <td>0.018518</td>\n",
       "      <td>0.122528</td>\n",
       "      <td>MinMaxScaler(copy=True, feature_range=(0, 1))</td>\n",
       "      <td>{'model__C': 0.12252798573828648, 'prep__num__...</td>\n",
       "      <td>0.418779</td>\n",
       "      <td>0.453529</td>\n",
       "      <td>0.442714</td>\n",
       "      <td>...</td>\n",
       "      <td>0.899064</td>\n",
       "      <td>0.001347</td>\n",
       "      <td>38</td>\n",
       "      <td>0.900291</td>\n",
       "      <td>0.899203</td>\n",
       "      <td>0.900255</td>\n",
       "      <td>0.899567</td>\n",
       "      <td>0.899365</td>\n",
       "      <td>0.899736</td>\n",
       "      <td>0.000454</td>\n",
       "    </tr>\n",
       "    <tr>\n",
       "      <th>4</th>\n",
       "      <td>1.260093</td>\n",
       "      <td>0.034534</td>\n",
       "      <td>0.122886</td>\n",
       "      <td>0.013799</td>\n",
       "      <td>0.150131</td>\n",
       "      <td>StandardScaler(copy=True, with_mean=True, with...</td>\n",
       "      <td>{'model__C': 0.15013107289081734, 'prep__num__...</td>\n",
       "      <td>0.423669</td>\n",
       "      <td>0.459180</td>\n",
       "      <td>0.446432</td>\n",
       "      <td>...</td>\n",
       "      <td>0.899323</td>\n",
       "      <td>0.000920</td>\n",
       "      <td>6</td>\n",
       "      <td>0.900534</td>\n",
       "      <td>0.899527</td>\n",
       "      <td>0.900619</td>\n",
       "      <td>0.899729</td>\n",
       "      <td>0.900174</td>\n",
       "      <td>0.900117</td>\n",
       "      <td>0.000431</td>\n",
       "    </tr>\n",
       "    <tr>\n",
       "      <th>...</th>\n",
       "      <td>...</td>\n",
       "      <td>...</td>\n",
       "      <td>...</td>\n",
       "      <td>...</td>\n",
       "      <td>...</td>\n",
       "      <td>...</td>\n",
       "      <td>...</td>\n",
       "      <td>...</td>\n",
       "      <td>...</td>\n",
       "      <td>...</td>\n",
       "      <td>...</td>\n",
       "      <td>...</td>\n",
       "      <td>...</td>\n",
       "      <td>...</td>\n",
       "      <td>...</td>\n",
       "      <td>...</td>\n",
       "      <td>...</td>\n",
       "      <td>...</td>\n",
       "      <td>...</td>\n",
       "      <td>...</td>\n",
       "      <td>...</td>\n",
       "    </tr>\n",
       "    <tr>\n",
       "      <th>65</th>\n",
       "      <td>1.285712</td>\n",
       "      <td>0.087227</td>\n",
       "      <td>0.133493</td>\n",
       "      <td>0.015832</td>\n",
       "      <td>66.6085</td>\n",
       "      <td>MinMaxScaler(copy=True, feature_range=(0, 1))</td>\n",
       "      <td>{'model__C': 66.60846290809161, 'prep__num__sc...</td>\n",
       "      <td>0.424232</td>\n",
       "      <td>0.459500</td>\n",
       "      <td>0.443946</td>\n",
       "      <td>...</td>\n",
       "      <td>0.898935</td>\n",
       "      <td>0.001407</td>\n",
       "      <td>67</td>\n",
       "      <td>0.900210</td>\n",
       "      <td>0.899607</td>\n",
       "      <td>0.899850</td>\n",
       "      <td>0.899405</td>\n",
       "      <td>0.900417</td>\n",
       "      <td>0.899898</td>\n",
       "      <td>0.000373</td>\n",
       "    </tr>\n",
       "    <tr>\n",
       "      <th>66</th>\n",
       "      <td>1.266696</td>\n",
       "      <td>0.033331</td>\n",
       "      <td>0.116883</td>\n",
       "      <td>0.010016</td>\n",
       "      <td>81.614</td>\n",
       "      <td>StandardScaler(copy=True, with_mean=True, with...</td>\n",
       "      <td>{'model__C': 81.61400793251835, 'prep__num__sc...</td>\n",
       "      <td>0.424350</td>\n",
       "      <td>0.460201</td>\n",
       "      <td>0.444606</td>\n",
       "      <td>...</td>\n",
       "      <td>0.899032</td>\n",
       "      <td>0.001453</td>\n",
       "      <td>43</td>\n",
       "      <td>0.900170</td>\n",
       "      <td>0.899891</td>\n",
       "      <td>0.900255</td>\n",
       "      <td>0.899243</td>\n",
       "      <td>0.900417</td>\n",
       "      <td>0.899995</td>\n",
       "      <td>0.000413</td>\n",
       "    </tr>\n",
       "    <tr>\n",
       "      <th>67</th>\n",
       "      <td>1.293115</td>\n",
       "      <td>0.040076</td>\n",
       "      <td>0.122688</td>\n",
       "      <td>0.010696</td>\n",
       "      <td>81.614</td>\n",
       "      <td>MinMaxScaler(copy=True, feature_range=(0, 1))</td>\n",
       "      <td>{'model__C': 81.61400793251835, 'prep__num__sc...</td>\n",
       "      <td>0.424130</td>\n",
       "      <td>0.460029</td>\n",
       "      <td>0.444212</td>\n",
       "      <td>...</td>\n",
       "      <td>0.898967</td>\n",
       "      <td>0.001239</td>\n",
       "      <td>62</td>\n",
       "      <td>0.900210</td>\n",
       "      <td>0.899567</td>\n",
       "      <td>0.900134</td>\n",
       "      <td>0.899486</td>\n",
       "      <td>0.900417</td>\n",
       "      <td>0.899963</td>\n",
       "      <td>0.000369</td>\n",
       "    </tr>\n",
       "    <tr>\n",
       "      <th>68</th>\n",
       "      <td>1.307925</td>\n",
       "      <td>0.075207</td>\n",
       "      <td>0.118885</td>\n",
       "      <td>0.021015</td>\n",
       "      <td>100</td>\n",
       "      <td>StandardScaler(copy=True, with_mean=True, with...</td>\n",
       "      <td>{'model__C': 100.0, 'prep__num__scaler': Stand...</td>\n",
       "      <td>0.424300</td>\n",
       "      <td>0.460185</td>\n",
       "      <td>0.444493</td>\n",
       "      <td>...</td>\n",
       "      <td>0.899000</td>\n",
       "      <td>0.001423</td>\n",
       "      <td>55</td>\n",
       "      <td>0.900210</td>\n",
       "      <td>0.899850</td>\n",
       "      <td>0.900174</td>\n",
       "      <td>0.899365</td>\n",
       "      <td>0.900376</td>\n",
       "      <td>0.899995</td>\n",
       "      <td>0.000358</td>\n",
       "    </tr>\n",
       "    <tr>\n",
       "      <th>69</th>\n",
       "      <td>0.993903</td>\n",
       "      <td>0.172721</td>\n",
       "      <td>0.087862</td>\n",
       "      <td>0.025311</td>\n",
       "      <td>100</td>\n",
       "      <td>MinMaxScaler(copy=True, feature_range=(0, 1))</td>\n",
       "      <td>{'model__C': 100.0, 'prep__num__scaler': MinMa...</td>\n",
       "      <td>0.424088</td>\n",
       "      <td>0.459384</td>\n",
       "      <td>0.443364</td>\n",
       "      <td>...</td>\n",
       "      <td>0.898870</td>\n",
       "      <td>0.001269</td>\n",
       "      <td>70</td>\n",
       "      <td>0.900049</td>\n",
       "      <td>0.899527</td>\n",
       "      <td>0.900053</td>\n",
       "      <td>0.899243</td>\n",
       "      <td>0.900376</td>\n",
       "      <td>0.899849</td>\n",
       "      <td>0.000407</td>\n",
       "    </tr>\n",
       "  </tbody>\n",
       "</table>\n",
       "<p>70 rows × 37 columns</p>\n",
       "</div>"
      ],
      "text/plain": [
       "    mean_fit_time  std_fit_time  mean_score_time  std_score_time  \\\n",
       "0        1.448225      0.033677         0.100273        0.005952   \n",
       "1        1.034734      0.127446         0.128091        0.018442   \n",
       "2        1.338749      0.043839         0.108476        0.006948   \n",
       "3        1.048342      0.084090         0.128091        0.018518   \n",
       "4        1.260093      0.034534         0.122886        0.013799   \n",
       "..            ...           ...              ...             ...   \n",
       "65       1.285712      0.087227         0.133493        0.015832   \n",
       "66       1.266696      0.033331         0.116883        0.010016   \n",
       "67       1.293115      0.040076         0.122688        0.010696   \n",
       "68       1.307925      0.075207         0.118885        0.021015   \n",
       "69       0.993903      0.172721         0.087862        0.025311   \n",
       "\n",
       "   param_model__C                            param_prep__num__scaler  \\\n",
       "0             0.1  StandardScaler(copy=True, with_mean=True, with...   \n",
       "1             0.1      MinMaxScaler(copy=True, feature_range=(0, 1))   \n",
       "2        0.122528  StandardScaler(copy=True, with_mean=True, with...   \n",
       "3        0.122528      MinMaxScaler(copy=True, feature_range=(0, 1))   \n",
       "4        0.150131  StandardScaler(copy=True, with_mean=True, with...   \n",
       "..            ...                                                ...   \n",
       "65        66.6085      MinMaxScaler(copy=True, feature_range=(0, 1))   \n",
       "66         81.614  StandardScaler(copy=True, with_mean=True, with...   \n",
       "67         81.614      MinMaxScaler(copy=True, feature_range=(0, 1))   \n",
       "68            100  StandardScaler(copy=True, with_mean=True, with...   \n",
       "69            100      MinMaxScaler(copy=True, feature_range=(0, 1))   \n",
       "\n",
       "                                               params  split0_test_AP  \\\n",
       "0   {'model__C': 0.1, 'prep__num__scaler': Standar...        0.423314   \n",
       "1   {'model__C': 0.1, 'prep__num__scaler': MinMaxS...        0.418667   \n",
       "2   {'model__C': 0.12252798573828648, 'prep__num__...        0.423432   \n",
       "3   {'model__C': 0.12252798573828648, 'prep__num__...        0.418779   \n",
       "4   {'model__C': 0.15013107289081734, 'prep__num__...        0.423669   \n",
       "..                                                ...             ...   \n",
       "65  {'model__C': 66.60846290809161, 'prep__num__sc...        0.424232   \n",
       "66  {'model__C': 81.61400793251835, 'prep__num__sc...        0.424350   \n",
       "67  {'model__C': 81.61400793251835, 'prep__num__sc...        0.424130   \n",
       "68  {'model__C': 100.0, 'prep__num__scaler': Stand...        0.424300   \n",
       "69  {'model__C': 100.0, 'prep__num__scaler': MinMa...        0.424088   \n",
       "\n",
       "    split1_test_AP  split2_test_AP  ...  mean_test_ac  std_test_ac  \\\n",
       "0         0.459303        0.446829  ...      0.899550     0.001065   \n",
       "1         0.453154        0.442599  ...      0.899032     0.001068   \n",
       "2         0.459285        0.446736  ...      0.899421     0.000808   \n",
       "3         0.453529        0.442714  ...      0.899064     0.001347   \n",
       "4         0.459180        0.446432  ...      0.899323     0.000920   \n",
       "..             ...             ...  ...           ...          ...   \n",
       "65        0.459500        0.443946  ...      0.898935     0.001407   \n",
       "66        0.460201        0.444606  ...      0.899032     0.001453   \n",
       "67        0.460029        0.444212  ...      0.898967     0.001239   \n",
       "68        0.460185        0.444493  ...      0.899000     0.001423   \n",
       "69        0.459384        0.443364  ...      0.898870     0.001269   \n",
       "\n",
       "    rank_test_ac  split0_train_ac  split1_train_ac  split2_train_ac  \\\n",
       "0              1         0.900656         0.899446         0.900741   \n",
       "1             52         0.900332         0.899122         0.900214   \n",
       "2              3         0.900494         0.899405         0.900741   \n",
       "3             38         0.900291         0.899203         0.900255   \n",
       "4              6         0.900534         0.899527         0.900619   \n",
       "..           ...              ...              ...              ...   \n",
       "65            67         0.900210         0.899607         0.899850   \n",
       "66            43         0.900170         0.899891         0.900255   \n",
       "67            62         0.900210         0.899567         0.900134   \n",
       "68            55         0.900210         0.899850         0.900174   \n",
       "69            70         0.900049         0.899527         0.900053   \n",
       "\n",
       "    split3_train_ac  split4_train_ac  mean_train_ac  std_train_ac  \n",
       "0          0.899850         0.900093       0.900157      0.000489  \n",
       "1          0.899446         0.899405       0.899704      0.000479  \n",
       "2          0.899769         0.900174       0.900117      0.000482  \n",
       "3          0.899567         0.899365       0.899736      0.000454  \n",
       "4          0.899729         0.900174       0.900117      0.000431  \n",
       "..              ...              ...            ...           ...  \n",
       "65         0.899405         0.900417       0.899898      0.000373  \n",
       "66         0.899243         0.900417       0.899995      0.000413  \n",
       "67         0.899486         0.900417       0.899963      0.000369  \n",
       "68         0.899365         0.900376       0.899995      0.000358  \n",
       "69         0.899243         0.900376       0.899849      0.000407  \n",
       "\n",
       "[70 rows x 37 columns]"
      ]
     },
     "execution_count": 78,
     "metadata": {},
     "output_type": "execute_result"
    }
   ],
   "source": [
    "Logistic_df= pd.DataFrame(grid_Logistic.cv_results_)\n",
    "Logistic_df"
   ]
  },
  {
   "cell_type": "code",
   "execution_count": 79,
   "metadata": {},
   "outputs": [
    {
     "data": {
      "image/png": "[encoded data removed]",
      "text/plain": [
       "<Figure size 432x288 with 1 Axes>"
      ]
     },
     "metadata": {
      "needs_background": "light"
     },
     "output_type": "display_data"
    }
   ],
   "source": [
    "a= Logistic_df.plot(\"param_model__C\", \"mean_train_AP\")\n",
    "b= Logistic_df.plot(\"param_model__C\", \"mean_test_AP\", ax= plt.gca())\n",
    "c= Logistic_df.plot(\"param_model__C\", \"mean_test_ac\", ax= plt.gca())\n",
    "d= Logistic_df.plot(\"param_model__C\", \"mean_train_ac\", ax= plt.gca())"
   ]
  },
  {
   "cell_type": "code",
   "execution_count": 80,
   "metadata": {},
   "outputs": [
    {
     "data": {
      "text/plain": [
       "array([ 1.02881500e-03, -1.22963083e-01, -2.24455010e-01, -4.20014945e-02,\n",
       "       -2.32666664e+00,  1.21208305e+00,  1.26817995e-01,  3.49701911e-01,\n",
       "        5.06629039e-01, -5.32970763e-02, -1.67405820e-01, -1.03037078e-01,\n",
       "       -1.17496004e-01, -1.02536763e-01,  2.59015602e-01, -1.05588368e-01,\n",
       "       -1.63271373e-01,  9.94914643e-02, -5.29054398e-02, -5.89096336e-02,\n",
       "       -1.25843983e-02, -2.52715782e-01, -2.00843890e-01, -1.24965214e-01,\n",
       "       -1.95879823e-01, -5.39183324e-02, -2.55968688e-01, -1.62020288e-01,\n",
       "        4.93980878e-01, -2.20613419e-01, -9.38633715e-02, -9.02418433e-02,\n",
       "       -1.71672850e-01, -4.06852036e-01, -1.78159191e-01, -1.70318026e-01,\n",
       "       -2.30047669e-01, -2.09759709e-01, -1.70318026e-01, -1.98447151e-01,\n",
       "        7.02728280e-02, -6.48797714e-01, -2.11976727e-01,  2.91073053e-01,\n",
       "        3.38794762e-01, -1.31359334e-01, -8.83441832e-01,  1.30765617e+00,\n",
       "       -6.08452914e-01, -6.29090839e-01, -1.40746353e-01,  8.90191268e-02,\n",
       "       -1.21405093e-01, -3.09709964e-01, -6.92675056e-02, -1.06825051e-01,\n",
       "        2.86827265e-02, -5.46959121e-01, -1.47487635e-01,  1.15921869e-01])"
      ]
     },
     "execution_count": 80,
     "metadata": {},
     "output_type": "execute_result"
    }
   ],
   "source": [
    "log_coef= model_logistic.named_steps['model'].coef_\n",
    "log_coef[0]"
   ]
  },
  {
   "cell_type": "code",
   "execution_count": 81,
   "metadata": {},
   "outputs": [
    {
     "data": {
      "text/plain": [
       "array(['job_admin.', 'job_blue-collar', 'job_entrepreneur',\n",
       "       'job_housemaid', 'job_management', 'job_retired',\n",
       "       'job_self-employed', 'job_services', 'job_student',\n",
       "       'job_technician', 'job_unemployed', 'job_unknown',\n",
       "       'marital_divorced', 'marital_married', 'marital_single',\n",
       "       'education_basic.4y', 'education_basic.6y', 'education_basic.9y',\n",
       "       'education_high.school', 'education_illiterate',\n",
       "       'education_professional.course', 'education_university.degree',\n",
       "       'education_unknown', 'default_default-no', 'default_unknown-yes',\n",
       "       'housing_no', 'housing_unknown', 'housing_yes', 'loan_no',\n",
       "       'loan_unknown', 'loan_yes', 'contact_cellular',\n",
       "       'contact_telephone', 'month_apr', 'month_aug', 'month_dec',\n",
       "       'month_jul', 'month_jun', 'month_mar', 'month_may', 'month_nov',\n",
       "       'month_oct', 'month_sep', 'day_of_week_fri', 'day_of_week_mon',\n",
       "       'day_of_week_thu', 'day_of_week_tue', 'day_of_week_wed',\n",
       "       'poutcome_failure', 'poutcome_nonexistent', 'poutcome_success'],\n",
       "      dtype=object)"
      ]
     },
     "execution_count": 81,
     "metadata": {},
     "output_type": "execute_result"
    }
   ],
   "source": [
    "ohe= model_logistic.named_steps['prep'].named_transformers_['cat'].named_steps['one-hot']\n",
    "feature_cats= ohe.get_feature_names(input_features= categories)\n",
    "feature_cats"
   ]
  },
  {
   "cell_type": "code",
   "execution_count": 82,
   "metadata": {},
   "outputs": [
    {
     "data": {
      "text/plain": [
       "array(['age', 'campaign', 'pdays', 'previous', 'emp.var.rate',\n",
       "       'cons.price.idx', 'cons.conf.idx', 'euribor3m', 'nr.employed',\n",
       "       'job_admin.', 'job_blue-collar', 'job_entrepreneur',\n",
       "       'job_housemaid', 'job_management', 'job_retired',\n",
       "       'job_self-employed', 'job_services', 'job_student',\n",
       "       'job_technician', 'job_unemployed', 'job_unknown',\n",
       "       'marital_divorced', 'marital_married', 'marital_single',\n",
       "       'education_basic.4y', 'education_basic.6y', 'education_basic.9y',\n",
       "       'education_high.school', 'education_illiterate',\n",
       "       'education_professional.course', 'education_university.degree',\n",
       "       'education_unknown', 'default_default-no', 'default_unknown-yes',\n",
       "       'housing_no', 'housing_unknown', 'housing_yes', 'loan_no',\n",
       "       'loan_unknown', 'loan_yes', 'contact_cellular',\n",
       "       'contact_telephone', 'month_apr', 'month_aug', 'month_dec',\n",
       "       'month_jul', 'month_jun', 'month_mar', 'month_may', 'month_nov',\n",
       "       'month_oct', 'month_sep', 'day_of_week_fri', 'day_of_week_mon',\n",
       "       'day_of_week_thu', 'day_of_week_tue', 'day_of_week_wed',\n",
       "       'poutcome_failure', 'poutcome_nonexistent', 'poutcome_success'],\n",
       "      dtype=object)"
      ]
     },
     "execution_count": 82,
     "metadata": {},
     "output_type": "execute_result"
    }
   ],
   "source": [
    "feature_names= np.r_[numerics, feature_cats]\n",
    "feature_names"
   ]
  },
  {
   "cell_type": "code",
   "execution_count": 81,
   "metadata": {},
   "outputs": [
    {
     "data": {
      "image/png": "[encoded data removed]",
      "text/plain": [
       "<Figure size 576x1440 with 1 Axes>"
      ]
     },
     "metadata": {
      "needs_background": "light"
     },
     "output_type": "display_data"
    }
   ],
   "source": [
    "plt.figure(figsize= (8, 20))\n",
    "plt.barh(range(len(feature_names)), log_coef[0])\n",
    "plt.yticks(range(len(feature_names)), feature_names)\n",
    "plt.tight_layout()"
   ]
  },
  {
   "cell_type": "markdown",
   "metadata": {},
   "source": [
    "# Decision Tree"
   ]
  },
  {
   "cell_type": "markdown",
   "metadata": {},
   "source": [
    "## Post- Pruning Tree"
   ]
  },
  {
   "cell_type": "code",
   "execution_count": 216,
   "metadata": {},
   "outputs": [],
   "source": [
    "pipe_post_pruning= Pipeline([\n",
    "    ('prep', preprocess_tree),\n",
    "    ('model', DecisionTreeClassifier(random_state= 22))\n",
    "])"
   ]
  },
  {
   "cell_type": "code",
   "execution_count": 219,
   "metadata": {},
   "outputs": [
    {
     "data": {
      "text/plain": [
       "DecisionTreeClassifier(ccp_alpha=0.0, class_weight=None, criterion='gini',\n",
       "                       max_depth=None, max_features=None, max_leaf_nodes=None,\n",
       "                       min_impurity_decrease=0.0, min_impurity_split=None,\n",
       "                       min_samples_leaf=1, min_samples_split=2,\n",
       "                       min_weight_fraction_leaf=0.0, presort='deprecated',\n",
       "                       random_state=22, splitter='best')"
      ]
     },
     "execution_count": 219,
     "metadata": {},
     "output_type": "execute_result"
    }
   ],
   "source": [
    "pipe_post_pruning.named_steps['model']"
   ]
  },
  {
   "cell_type": "code",
   "execution_count": 266,
   "metadata": {},
   "outputs": [],
   "source": [
    "\n",
    "params= {\n",
    "    'model__ccp_alpha': np.linspace(0.0001, 0.0004, 10)\n",
    "}"
   ]
  },
  {
   "cell_type": "code",
   "execution_count": 267,
   "metadata": {},
   "outputs": [],
   "source": [
    "grid_tree2= GridSearchCV(pipe_post_pruning, param_grid= params, scoring= {'AP': 'average_precision', 'ac': 'accuracy'}, \n",
    "                       refit= 'AP', verbose= 1, return_train_score= True, cv= 5)"
   ]
  },
  {
   "cell_type": "code",
   "execution_count": 268,
   "metadata": {},
   "outputs": [
    {
     "name": "stdout",
     "output_type": "stream",
     "text": [
      "Fitting 5 folds for each of 10 candidates, totalling 50 fits\n"
     ]
    },
    {
     "name": "stderr",
     "output_type": "stream",
     "text": [
      "[Parallel(n_jobs=1)]: Using backend SequentialBackend with 1 concurrent workers.\n",
      "[Parallel(n_jobs=1)]: Done  50 out of  50 | elapsed:   27.1s finished\n"
     ]
    },
    {
     "data": {
      "text/plain": [
       "GridSearchCV(cv=5, error_score=nan,\n",
       "             estimator=Pipeline(memory=None,\n",
       "                                steps=[('prep',\n",
       "                                        ColumnTransformer(n_jobs=None,\n",
       "                                                          remainder='drop',\n",
       "                                                          sparse_threshold=0.3,\n",
       "                                                          transformer_weights=None,\n",
       "                                                          transformers=[('num',\n",
       "                                                                         'passthrough',\n",
       "                                                                         Index(['age', 'campaign', 'pdays', 'previous', 'emp.var.rate',\n",
       "       'cons.price.idx', 'cons.conf.idx', 'euribor3m', 'nr.employed'],\n",
       "      dtype='object')),\n",
       "                                                                        ('cat',...\n",
       "                                                               presort='deprecated',\n",
       "                                                               random_state=22,\n",
       "                                                               splitter='best'))],\n",
       "                                verbose=False),\n",
       "             iid='deprecated', n_jobs=None,\n",
       "             param_grid={'model__ccp_alpha': array([0.0001    , 0.00013333, 0.00016667, 0.0002    , 0.00023333,\n",
       "       0.00026667, 0.0003    , 0.00033333, 0.00036667, 0.0004    ])},\n",
       "             pre_dispatch='2*n_jobs', refit='AP', return_train_score=True,\n",
       "             scoring={'AP': 'average_precision', 'ac': 'accuracy'}, verbose=1)"
      ]
     },
     "execution_count": 268,
     "metadata": {},
     "output_type": "execute_result"
    }
   ],
   "source": [
    "grid_tree2.fit(X_trainval, y_trainval)"
   ]
  },
  {
   "cell_type": "code",
   "execution_count": 269,
   "metadata": {},
   "outputs": [
    {
     "data": {
      "text/plain": [
       "0.41899544617140344"
      ]
     },
     "execution_count": 269,
     "metadata": {},
     "output_type": "execute_result"
    }
   ],
   "source": [
    "grid_tree2.best_score_"
   ]
  },
  {
   "cell_type": "code",
   "execution_count": 270,
   "metadata": {},
   "outputs": [
    {
     "data": {
      "text/plain": [
       "{'model__ccp_alpha': 0.0001666666666666667}"
      ]
     },
     "execution_count": 270,
     "metadata": {},
     "output_type": "execute_result"
    }
   ],
   "source": [
    "grid_tree2.best_params_"
   ]
  },
  {
   "cell_type": "code",
   "execution_count": 271,
   "metadata": {},
   "outputs": [],
   "source": [
    "model_tree2= grid_tree2.best_estimator_"
   ]
  },
  {
   "cell_type": "code",
   "execution_count": 272,
   "metadata": {},
   "outputs": [
    {
     "data": {
      "text/html": [
       "<div>\n",
       "<style scoped>\n",
       "    .dataframe tbody tr th:only-of-type {\n",
       "        vertical-align: middle;\n",
       "    }\n",
       "\n",
       "    .dataframe tbody tr th {\n",
       "        vertical-align: top;\n",
       "    }\n",
       "\n",
       "    .dataframe thead th {\n",
       "        text-align: right;\n",
       "    }\n",
       "</style>\n",
       "<table border=\"1\" class=\"dataframe\">\n",
       "  <thead>\n",
       "    <tr style=\"text-align: right;\">\n",
       "      <th></th>\n",
       "      <th>mean_fit_time</th>\n",
       "      <th>std_fit_time</th>\n",
       "      <th>mean_score_time</th>\n",
       "      <th>std_score_time</th>\n",
       "      <th>param_model__ccp_alpha</th>\n",
       "      <th>params</th>\n",
       "      <th>split0_test_AP</th>\n",
       "      <th>split1_test_AP</th>\n",
       "      <th>split2_test_AP</th>\n",
       "      <th>split3_test_AP</th>\n",
       "      <th>...</th>\n",
       "      <th>mean_test_ac</th>\n",
       "      <th>std_test_ac</th>\n",
       "      <th>rank_test_ac</th>\n",
       "      <th>split0_train_ac</th>\n",
       "      <th>split1_train_ac</th>\n",
       "      <th>split2_train_ac</th>\n",
       "      <th>split3_train_ac</th>\n",
       "      <th>split4_train_ac</th>\n",
       "      <th>mean_train_ac</th>\n",
       "      <th>std_train_ac</th>\n",
       "    </tr>\n",
       "  </thead>\n",
       "  <tbody>\n",
       "    <tr>\n",
       "      <th>0</th>\n",
       "      <td>0.342248</td>\n",
       "      <td>0.016383</td>\n",
       "      <td>0.045838</td>\n",
       "      <td>0.000401</td>\n",
       "      <td>0.0001</td>\n",
       "      <td>{'model__ccp_alpha': 0.0001}</td>\n",
       "      <td>0.392656</td>\n",
       "      <td>0.423454</td>\n",
       "      <td>0.417735</td>\n",
       "      <td>0.411893</td>\n",
       "      <td>...</td>\n",
       "      <td>0.898708</td>\n",
       "      <td>0.001077</td>\n",
       "      <td>10</td>\n",
       "      <td>0.910772</td>\n",
       "      <td>0.907943</td>\n",
       "      <td>0.907943</td>\n",
       "      <td>0.908995</td>\n",
       "      <td>0.909845</td>\n",
       "      <td>0.909100</td>\n",
       "      <td>0.001099</td>\n",
       "    </tr>\n",
       "    <tr>\n",
       "      <th>1</th>\n",
       "      <td>0.335647</td>\n",
       "      <td>0.005209</td>\n",
       "      <td>0.045833</td>\n",
       "      <td>0.000755</td>\n",
       "      <td>0.000133333</td>\n",
       "      <td>{'model__ccp_alpha': 0.00013333333333333334}</td>\n",
       "      <td>0.400779</td>\n",
       "      <td>0.428826</td>\n",
       "      <td>0.420526</td>\n",
       "      <td>0.419169</td>\n",
       "      <td>...</td>\n",
       "      <td>0.899809</td>\n",
       "      <td>0.001020</td>\n",
       "      <td>8</td>\n",
       "      <td>0.905188</td>\n",
       "      <td>0.904059</td>\n",
       "      <td>0.905030</td>\n",
       "      <td>0.905475</td>\n",
       "      <td>0.904099</td>\n",
       "      <td>0.904770</td>\n",
       "      <td>0.000582</td>\n",
       "    </tr>\n",
       "    <tr>\n",
       "      <th>2</th>\n",
       "      <td>0.338246</td>\n",
       "      <td>0.005909</td>\n",
       "      <td>0.046037</td>\n",
       "      <td>0.000634</td>\n",
       "      <td>0.000166667</td>\n",
       "      <td>{'model__ccp_alpha': 0.0001666666666666667}</td>\n",
       "      <td>0.402632</td>\n",
       "      <td>0.428724</td>\n",
       "      <td>0.425552</td>\n",
       "      <td>0.429596</td>\n",
       "      <td>...</td>\n",
       "      <td>0.899097</td>\n",
       "      <td>0.001200</td>\n",
       "      <td>9</td>\n",
       "      <td>0.904298</td>\n",
       "      <td>0.902359</td>\n",
       "      <td>0.903573</td>\n",
       "      <td>0.902642</td>\n",
       "      <td>0.902804</td>\n",
       "      <td>0.903135</td>\n",
       "      <td>0.000707</td>\n",
       "    </tr>\n",
       "    <tr>\n",
       "      <th>3</th>\n",
       "      <td>0.335237</td>\n",
       "      <td>0.006065</td>\n",
       "      <td>0.046033</td>\n",
       "      <td>0.000634</td>\n",
       "      <td>0.0002</td>\n",
       "      <td>{'model__ccp_alpha': 0.0002}</td>\n",
       "      <td>0.404523</td>\n",
       "      <td>0.428568</td>\n",
       "      <td>0.417681</td>\n",
       "      <td>0.416600</td>\n",
       "      <td>...</td>\n",
       "      <td>0.900100</td>\n",
       "      <td>0.001472</td>\n",
       "      <td>7</td>\n",
       "      <td>0.903245</td>\n",
       "      <td>0.901347</td>\n",
       "      <td>0.902764</td>\n",
       "      <td>0.902602</td>\n",
       "      <td>0.902238</td>\n",
       "      <td>0.902439</td>\n",
       "      <td>0.000635</td>\n",
       "    </tr>\n",
       "    <tr>\n",
       "      <th>4</th>\n",
       "      <td>0.334840</td>\n",
       "      <td>0.004726</td>\n",
       "      <td>0.046238</td>\n",
       "      <td>0.000395</td>\n",
       "      <td>0.000233333</td>\n",
       "      <td>{'model__ccp_alpha': 0.00023333333333333333}</td>\n",
       "      <td>0.397454</td>\n",
       "      <td>0.427506</td>\n",
       "      <td>0.411331</td>\n",
       "      <td>0.420160</td>\n",
       "      <td>...</td>\n",
       "      <td>0.900295</td>\n",
       "      <td>0.001594</td>\n",
       "      <td>4</td>\n",
       "      <td>0.902922</td>\n",
       "      <td>0.901347</td>\n",
       "      <td>0.902521</td>\n",
       "      <td>0.901064</td>\n",
       "      <td>0.902238</td>\n",
       "      <td>0.902018</td>\n",
       "      <td>0.000704</td>\n",
       "    </tr>\n",
       "  </tbody>\n",
       "</table>\n",
       "<p>5 rows × 36 columns</p>\n",
       "</div>"
      ],
      "text/plain": [
       "   mean_fit_time  std_fit_time  mean_score_time  std_score_time  \\\n",
       "0       0.342248      0.016383         0.045838        0.000401   \n",
       "1       0.335647      0.005209         0.045833        0.000755   \n",
       "2       0.338246      0.005909         0.046037        0.000634   \n",
       "3       0.335237      0.006065         0.046033        0.000634   \n",
       "4       0.334840      0.004726         0.046238        0.000395   \n",
       "\n",
       "  param_model__ccp_alpha                                        params  \\\n",
       "0                 0.0001                  {'model__ccp_alpha': 0.0001}   \n",
       "1            0.000133333  {'model__ccp_alpha': 0.00013333333333333334}   \n",
       "2            0.000166667   {'model__ccp_alpha': 0.0001666666666666667}   \n",
       "3                 0.0002                  {'model__ccp_alpha': 0.0002}   \n",
       "4            0.000233333  {'model__ccp_alpha': 0.00023333333333333333}   \n",
       "\n",
       "   split0_test_AP  split1_test_AP  split2_test_AP  split3_test_AP  ...  \\\n",
       "0        0.392656        0.423454        0.417735        0.411893  ...   \n",
       "1        0.400779        0.428826        0.420526        0.419169  ...   \n",
       "2        0.402632        0.428724        0.425552        0.429596  ...   \n",
       "3        0.404523        0.428568        0.417681        0.416600  ...   \n",
       "4        0.397454        0.427506        0.411331        0.420160  ...   \n",
       "\n",
       "   mean_test_ac  std_test_ac  rank_test_ac  split0_train_ac  split1_train_ac  \\\n",
       "0      0.898708     0.001077            10         0.910772         0.907943   \n",
       "1      0.899809     0.001020             8         0.905188         0.904059   \n",
       "2      0.899097     0.001200             9         0.904298         0.902359   \n",
       "3      0.900100     0.001472             7         0.903245         0.901347   \n",
       "4      0.900295     0.001594             4         0.902922         0.901347   \n",
       "\n",
       "   split2_train_ac  split3_train_ac  split4_train_ac  mean_train_ac  \\\n",
       "0         0.907943         0.908995         0.909845       0.909100   \n",
       "1         0.905030         0.905475         0.904099       0.904770   \n",
       "2         0.903573         0.902642         0.902804       0.903135   \n",
       "3         0.902764         0.902602         0.902238       0.902439   \n",
       "4         0.902521         0.901064         0.902238       0.902018   \n",
       "\n",
       "   std_train_ac  \n",
       "0      0.001099  \n",
       "1      0.000582  \n",
       "2      0.000707  \n",
       "3      0.000635  \n",
       "4      0.000704  \n",
       "\n",
       "[5 rows x 36 columns]"
      ]
     },
     "execution_count": 272,
     "metadata": {},
     "output_type": "execute_result"
    }
   ],
   "source": [
    "tree2_df= pd.DataFrame(grid_tree2.cv_results_)\n",
    "tree2_df.head()"
   ]
  },
  {
   "cell_type": "code",
   "execution_count": 273,
   "metadata": {},
   "outputs": [
    {
     "data": {
      "image/png": "[encoded data removed]",
      "text/plain": [
       "<Figure size 1296x720 with 1 Axes>"
      ]
     },
     "metadata": {
      "needs_background": "light"
     },
     "output_type": "display_data"
    }
   ],
   "source": [
    "plt.rcParams[\"figure.figsize\"] = [10, 5]\n",
    "a= tree2_df.plot(\"param_model__ccp_alpha\", \"mean_train_AP\")\n",
    "b= tree2_df.plot(\"param_model__ccp_alpha\", \"mean_test_AP\", ax= plt.gca())\n",
    "c= tree2_df.plot(\"param_model__ccp_alpha\", \"mean_test_ac\", ax= plt.gca())\n",
    "d= tree2_df.plot(\"param_model__ccp_alpha\", \"mean_train_ac\", ax= plt.gca())"
   ]
  },
  {
   "cell_type": "code",
   "execution_count": 274,
   "metadata": {},
   "outputs": [
    {
     "data": {
      "text/plain": [
       "True"
      ]
     },
     "execution_count": 274,
     "metadata": {},
     "output_type": "execute_result"
    }
   ],
   "source": [
    "#https://pythonprogramminglanguage.com/decision-tree-visual-example/\n",
    "# Visualize data\n",
    "\n",
    "\n",
    "dot_data = export_graphviz(model_tree2.named_steps['model'],\n",
    "                                feature_names= feature_names,\n",
    "                                out_file=None,\n",
    "                                filled=True,\n",
    "                                rounded=True)\n",
    "graph = pydotplus.graph_from_dot_data(dot_data)\n",
    "\n",
    "colors = ('turquoise', 'orange')\n",
    "edges = collections.defaultdict(list)\n",
    "\n",
    "for edge in graph.get_edge_list():\n",
    "    edges[edge.get_source()].append(int(edge.get_destination()))\n",
    "\n",
    "for edge in edges:\n",
    "    edges[edge].sort()    \n",
    "    for i in range(2):\n",
    "        dest = graph.get_node(str(edges[edge][i]))[0]\n",
    "        dest.set_fillcolor(colors[i])\n",
    "\n",
    "graph.write_png('tree22.png')"
   ]
  },
  {
   "cell_type": "markdown",
   "metadata": {},
   "source": [
    "![](tree22.png)"
   ]
  },
  {
   "cell_type": "markdown",
   "metadata": {},
   "source": [
    "# Random Forest"
   ]
  },
  {
   "cell_type": "code",
   "execution_count": 103,
   "metadata": {},
   "outputs": [],
   "source": [
    "from sklearn.ensemble import RandomForestClassifier"
   ]
  },
  {
   "cell_type": "code",
   "execution_count": 117,
   "metadata": {},
   "outputs": [],
   "source": [
    "pipe_RF= Pipeline([\n",
    "    ('prep', preprocess_tree),\n",
    "    ('model', RandomForestClassifier(random_state= 65, n_estimators= 350))\n",
    "])"
   ]
  },
  {
   "cell_type": "code",
   "execution_count": 110,
   "metadata": {},
   "outputs": [
    {
     "data": {
      "text/plain": [
       "array([3, 5, 7, 9])"
      ]
     },
     "execution_count": 110,
     "metadata": {},
     "output_type": "execute_result"
    }
   ],
   "source": [
    "np.arange(3, 10, 2)"
   ]
  },
  {
   "cell_type": "code",
   "execution_count": 158,
   "metadata": {},
   "outputs": [],
   "source": [
    "params= {\n",
    "    'model__max_features': [6, 7, 8],\n",
    "    'model__max_depth': [4, 5, 6]\n",
    "}"
   ]
  },
  {
   "cell_type": "code",
   "execution_count": 159,
   "metadata": {},
   "outputs": [],
   "source": [
    "grid_RF= GridSearchCV(pipe_RF, param_grid= params, scoring= {'AP': 'average_precision', 'ac': 'accuracy'}, \n",
    "                       refit= 'AP', verbose= 1, return_train_score= True, cv= 5)"
   ]
  },
  {
   "cell_type": "code",
   "execution_count": 160,
   "metadata": {},
   "outputs": [
    {
     "name": "stdout",
     "output_type": "stream",
     "text": [
      "Fitting 5 folds for each of 9 candidates, totalling 45 fits\n"
     ]
    },
    {
     "name": "stderr",
     "output_type": "stream",
     "text": [
      "[Parallel(n_jobs=1)]: Using backend SequentialBackend with 1 concurrent workers.\n",
      "[Parallel(n_jobs=1)]: Done  45 out of  45 | elapsed: 10.1min finished\n"
     ]
    },
    {
     "data": {
      "text/plain": [
       "GridSearchCV(cv=5, error_score=nan,\n",
       "             estimator=Pipeline(memory=None,\n",
       "                                steps=[('prep',\n",
       "                                        ColumnTransformer(n_jobs=None,\n",
       "                                                          remainder='drop',\n",
       "                                                          sparse_threshold=0.3,\n",
       "                                                          transformer_weights=None,\n",
       "                                                          transformers=[('num',\n",
       "                                                                         'passthrough',\n",
       "                                                                         Index(['age', 'campaign', 'pdays', 'previous', 'emp.var.rate',\n",
       "       'cons.price.idx', 'cons.conf.idx', 'euribor3m', 'nr.employed'],\n",
       "      dtype='object')),\n",
       "                                                                        ('cat',...\n",
       "                                                               min_weight_fraction_leaf=0.0,\n",
       "                                                               n_estimators=800,\n",
       "                                                               n_jobs=None,\n",
       "                                                               oob_score=False,\n",
       "                                                               random_state=65,\n",
       "                                                               verbose=0,\n",
       "                                                               warm_start=False))],\n",
       "                                verbose=False),\n",
       "             iid='deprecated', n_jobs=None,\n",
       "             param_grid={'model__max_depth': [4, 5, 6],\n",
       "                         'model__max_features': [6, 7, 8]},\n",
       "             pre_dispatch='2*n_jobs', refit='AP', return_train_score=True,\n",
       "             scoring={'AP': 'average_precision', 'ac': 'accuracy'}, verbose=1)"
      ]
     },
     "execution_count": 160,
     "metadata": {},
     "output_type": "execute_result"
    }
   ],
   "source": [
    "grid_RF.fit(X_trainval, y_trainval)"
   ]
  },
  {
   "cell_type": "code",
   "execution_count": 161,
   "metadata": {},
   "outputs": [
    {
     "data": {
      "text/plain": [
       "{'model__max_depth': 6, 'model__max_features': 8}"
      ]
     },
     "execution_count": 161,
     "metadata": {},
     "output_type": "execute_result"
    }
   ],
   "source": [
    "grid_RF.best_params_"
   ]
  },
  {
   "cell_type": "code",
   "execution_count": 162,
   "metadata": {},
   "outputs": [
    {
     "data": {
      "text/plain": [
       "0.45623601280936976"
      ]
     },
     "execution_count": 162,
     "metadata": {},
     "output_type": "execute_result"
    }
   ],
   "source": [
    "grid_RF.best_score_"
   ]
  },
  {
   "cell_type": "code",
   "execution_count": 169,
   "metadata": {},
   "outputs": [],
   "source": [
    "model_RF= grid_RF.best_estimator_"
   ]
  },
  {
   "cell_type": "code",
   "execution_count": 166,
   "metadata": {},
   "outputs": [
    {
     "data": {
      "text/html": [
       "<div>\n",
       "<style scoped>\n",
       "    .dataframe tbody tr th:only-of-type {\n",
       "        vertical-align: middle;\n",
       "    }\n",
       "\n",
       "    .dataframe tbody tr th {\n",
       "        vertical-align: top;\n",
       "    }\n",
       "\n",
       "    .dataframe thead th {\n",
       "        text-align: right;\n",
       "    }\n",
       "</style>\n",
       "<table border=\"1\" class=\"dataframe\">\n",
       "  <thead>\n",
       "    <tr style=\"text-align: right;\">\n",
       "      <th></th>\n",
       "      <th>mean_fit_time</th>\n",
       "      <th>std_fit_time</th>\n",
       "      <th>mean_score_time</th>\n",
       "      <th>std_score_time</th>\n",
       "      <th>param_model__max_depth</th>\n",
       "      <th>param_model__max_features</th>\n",
       "      <th>params</th>\n",
       "      <th>split0_test_AP</th>\n",
       "      <th>split1_test_AP</th>\n",
       "      <th>split2_test_AP</th>\n",
       "      <th>...</th>\n",
       "      <th>mean_test_ac</th>\n",
       "      <th>std_test_ac</th>\n",
       "      <th>rank_test_ac</th>\n",
       "      <th>split0_train_ac</th>\n",
       "      <th>split1_train_ac</th>\n",
       "      <th>split2_train_ac</th>\n",
       "      <th>split3_train_ac</th>\n",
       "      <th>split4_train_ac</th>\n",
       "      <th>mean_train_ac</th>\n",
       "      <th>std_train_ac</th>\n",
       "    </tr>\n",
       "  </thead>\n",
       "  <tbody>\n",
       "    <tr>\n",
       "      <th>0</th>\n",
       "      <td>7.168458</td>\n",
       "      <td>0.040864</td>\n",
       "      <td>0.875027</td>\n",
       "      <td>0.016688</td>\n",
       "      <td>4</td>\n",
       "      <td>6</td>\n",
       "      <td>{'model__max_depth': 4, 'model__max_features': 6}</td>\n",
       "      <td>0.427337</td>\n",
       "      <td>0.450674</td>\n",
       "      <td>0.447113</td>\n",
       "      <td>...</td>\n",
       "      <td>0.898255</td>\n",
       "      <td>0.001730</td>\n",
       "      <td>9</td>\n",
       "      <td>0.899199</td>\n",
       "      <td>0.898394</td>\n",
       "      <td>0.899203</td>\n",
       "      <td>0.898636</td>\n",
       "      <td>0.898515</td>\n",
       "      <td>0.898789</td>\n",
       "      <td>0.000345</td>\n",
       "    </tr>\n",
       "    <tr>\n",
       "      <th>1</th>\n",
       "      <td>7.667616</td>\n",
       "      <td>0.058840</td>\n",
       "      <td>0.860416</td>\n",
       "      <td>0.008457</td>\n",
       "      <td>4</td>\n",
       "      <td>7</td>\n",
       "      <td>{'model__max_depth': 4, 'model__max_features': 7}</td>\n",
       "      <td>0.430125</td>\n",
       "      <td>0.451898</td>\n",
       "      <td>0.453484</td>\n",
       "      <td>...</td>\n",
       "      <td>0.898482</td>\n",
       "      <td>0.001910</td>\n",
       "      <td>8</td>\n",
       "      <td>0.899118</td>\n",
       "      <td>0.898515</td>\n",
       "      <td>0.899324</td>\n",
       "      <td>0.898555</td>\n",
       "      <td>0.898474</td>\n",
       "      <td>0.898797</td>\n",
       "      <td>0.000353</td>\n",
       "    </tr>\n",
       "    <tr>\n",
       "      <th>2</th>\n",
       "      <td>8.358106</td>\n",
       "      <td>0.250266</td>\n",
       "      <td>0.889635</td>\n",
       "      <td>0.055826</td>\n",
       "      <td>4</td>\n",
       "      <td>8</td>\n",
       "      <td>{'model__max_depth': 4, 'model__max_features': 8}</td>\n",
       "      <td>0.430809</td>\n",
       "      <td>0.453589</td>\n",
       "      <td>0.454764</td>\n",
       "      <td>...</td>\n",
       "      <td>0.898708</td>\n",
       "      <td>0.001849</td>\n",
       "      <td>4</td>\n",
       "      <td>0.899522</td>\n",
       "      <td>0.898515</td>\n",
       "      <td>0.899648</td>\n",
       "      <td>0.898960</td>\n",
       "      <td>0.898920</td>\n",
       "      <td>0.899113</td>\n",
       "      <td>0.000418</td>\n",
       "    </tr>\n",
       "    <tr>\n",
       "      <th>3</th>\n",
       "      <td>8.017470</td>\n",
       "      <td>0.054576</td>\n",
       "      <td>0.917451</td>\n",
       "      <td>0.002929</td>\n",
       "      <td>5</td>\n",
       "      <td>6</td>\n",
       "      <td>{'model__max_depth': 5, 'model__max_features': 6}</td>\n",
       "      <td>0.432498</td>\n",
       "      <td>0.455671</td>\n",
       "      <td>0.459623</td>\n",
       "      <td>...</td>\n",
       "      <td>0.898514</td>\n",
       "      <td>0.001689</td>\n",
       "      <td>7</td>\n",
       "      <td>0.899765</td>\n",
       "      <td>0.899243</td>\n",
       "      <td>0.900053</td>\n",
       "      <td>0.899446</td>\n",
       "      <td>0.899567</td>\n",
       "      <td>0.899615</td>\n",
       "      <td>0.000277</td>\n",
       "    </tr>\n",
       "    <tr>\n",
       "      <th>4</th>\n",
       "      <td>9.350608</td>\n",
       "      <td>0.656908</td>\n",
       "      <td>1.064351</td>\n",
       "      <td>0.176446</td>\n",
       "      <td>5</td>\n",
       "      <td>7</td>\n",
       "      <td>{'model__max_depth': 5, 'model__max_features': 7}</td>\n",
       "      <td>0.433200</td>\n",
       "      <td>0.460978</td>\n",
       "      <td>0.461702</td>\n",
       "      <td>...</td>\n",
       "      <td>0.898644</td>\n",
       "      <td>0.001652</td>\n",
       "      <td>6</td>\n",
       "      <td>0.900251</td>\n",
       "      <td>0.899081</td>\n",
       "      <td>0.899850</td>\n",
       "      <td>0.900053</td>\n",
       "      <td>0.899446</td>\n",
       "      <td>0.899736</td>\n",
       "      <td>0.000422</td>\n",
       "    </tr>\n",
       "  </tbody>\n",
       "</table>\n",
       "<p>5 rows × 37 columns</p>\n",
       "</div>"
      ],
      "text/plain": [
       "   mean_fit_time  std_fit_time  mean_score_time  std_score_time  \\\n",
       "0       7.168458      0.040864         0.875027        0.016688   \n",
       "1       7.667616      0.058840         0.860416        0.008457   \n",
       "2       8.358106      0.250266         0.889635        0.055826   \n",
       "3       8.017470      0.054576         0.917451        0.002929   \n",
       "4       9.350608      0.656908         1.064351        0.176446   \n",
       "\n",
       "  param_model__max_depth param_model__max_features  \\\n",
       "0                      4                         6   \n",
       "1                      4                         7   \n",
       "2                      4                         8   \n",
       "3                      5                         6   \n",
       "4                      5                         7   \n",
       "\n",
       "                                              params  split0_test_AP  \\\n",
       "0  {'model__max_depth': 4, 'model__max_features': 6}        0.427337   \n",
       "1  {'model__max_depth': 4, 'model__max_features': 7}        0.430125   \n",
       "2  {'model__max_depth': 4, 'model__max_features': 8}        0.430809   \n",
       "3  {'model__max_depth': 5, 'model__max_features': 6}        0.432498   \n",
       "4  {'model__max_depth': 5, 'model__max_features': 7}        0.433200   \n",
       "\n",
       "   split1_test_AP  split2_test_AP  ...  mean_test_ac  std_test_ac  \\\n",
       "0        0.450674        0.447113  ...      0.898255     0.001730   \n",
       "1        0.451898        0.453484  ...      0.898482     0.001910   \n",
       "2        0.453589        0.454764  ...      0.898708     0.001849   \n",
       "3        0.455671        0.459623  ...      0.898514     0.001689   \n",
       "4        0.460978        0.461702  ...      0.898644     0.001652   \n",
       "\n",
       "   rank_test_ac  split0_train_ac  split1_train_ac  split2_train_ac  \\\n",
       "0             9         0.899199         0.898394         0.899203   \n",
       "1             8         0.899118         0.898515         0.899324   \n",
       "2             4         0.899522         0.898515         0.899648   \n",
       "3             7         0.899765         0.899243         0.900053   \n",
       "4             6         0.900251         0.899081         0.899850   \n",
       "\n",
       "   split3_train_ac  split4_train_ac  mean_train_ac  std_train_ac  \n",
       "0         0.898636         0.898515       0.898789      0.000345  \n",
       "1         0.898555         0.898474       0.898797      0.000353  \n",
       "2         0.898960         0.898920       0.899113      0.000418  \n",
       "3         0.899446         0.899567       0.899615      0.000277  \n",
       "4         0.900053         0.899446       0.899736      0.000422  \n",
       "\n",
       "[5 rows x 37 columns]"
      ]
     },
     "execution_count": 166,
     "metadata": {},
     "output_type": "execute_result"
    }
   ],
   "source": [
    "RF_df= pd.DataFrame(grid_RF.cv_results_)\n",
    "RF_df.head()"
   ]
  },
  {
   "cell_type": "code",
   "execution_count": 165,
   "metadata": {},
   "outputs": [
    {
     "data": {
      "text/plain": [
       "(array([-1.,  0.,  1.,  2.,  3.,  4.,  5.,  6.,  7.,  8.,  9.]),\n",
       " <a list of 11 Text major ticklabel objects>)"
      ]
     },
     "execution_count": 165,
     "metadata": {},
     "output_type": "execute_result"
    },
    {
     "data": {
      "image/png": "[encoded data removed]",
      "text/plain": [
       "<Figure size 720x360 with 1 Axes>"
      ]
     },
     "metadata": {
      "needs_background": "light"
     },
     "output_type": "display_data"
    }
   ],
   "source": [
    "plt.rcParams[\"figure.figsize\"] = [10, 5]\n",
    "a= RF_df.plot(\"params\", \"mean_train_AP\")\n",
    "b= RF_df.plot(\"params\", \"mean_test_AP\", ax= plt.gca())\n",
    "c= RF_df.plot(\"params\", \"mean_test_ac\", ax= plt.gca())\n",
    "d= RF_df.plot(\"params\", \"mean_train_ac\", ax= plt.gca())\n",
    "plt.xticks(rotation= 90)"
   ]
  },
  {
   "cell_type": "code",
   "execution_count": 181,
   "metadata": {},
   "outputs": [],
   "source": [
    "RF_coef= model_RF.named_steps['model'].feature_importances_"
   ]
  },
  {
   "cell_type": "code",
   "execution_count": 183,
   "metadata": {},
   "outputs": [
    {
     "data": {
      "image/png": "[encoded data removed]",
      "text/plain": [
       "<Figure size 576x1440 with 1 Axes>"
      ]
     },
     "metadata": {
      "needs_background": "light"
     },
     "output_type": "display_data"
    }
   ],
   "source": [
    "plt.figure(figsize= [8, 20])\n",
    "plt.barh(range(len(RF_coef)), RF_coef)\n",
    "plt.yticks(range(len(RF_coef)), feature_names)\n",
    "\n",
    "\n",
    "\n",
    "plt.tight_layout()"
   ]
  },
  {
   "cell_type": "markdown",
   "metadata": {},
   "source": [
    "# XGboost"
   ]
  },
  {
   "cell_type": "code",
   "execution_count": 89,
   "metadata": {},
   "outputs": [],
   "source": [
    "from xgboost import XGBClassifier"
   ]
  },
  {
   "cell_type": "code",
   "execution_count": 90,
   "metadata": {},
   "outputs": [],
   "source": [
    "pipe_xgb= Pipeline([\n",
    "    ('prep', preprocess_tree),\n",
    "    ('model', XGBClassifier(max_depth= 2, n_estimators= 800))\n",
    "])"
   ]
  },
  {
   "cell_type": "code",
   "execution_count": 91,
   "metadata": {},
   "outputs": [
    {
     "data": {
      "text/plain": [
       "array([0.01      , 0.01668101, 0.02782559, 0.04641589, 0.07742637,\n",
       "       0.12915497, 0.21544347, 0.35938137, 0.59948425, 1.        ])"
      ]
     },
     "execution_count": 91,
     "metadata": {},
     "output_type": "execute_result"
    }
   ],
   "source": [
    "np.logspace(-2, 0, 10)"
   ]
  },
  {
   "cell_type": "code",
   "execution_count": 102,
   "metadata": {},
   "outputs": [],
   "source": [
    "params= {'model__learning_rate': np.linspace(0.01, 0.05, 10)\n",
    "         }\n"
   ]
  },
  {
   "cell_type": "code",
   "execution_count": 103,
   "metadata": {},
   "outputs": [],
   "source": [
    "grid_xgb= GridSearchCV(pipe_xgb, param_grid= params, return_train_score= True,\n",
    "                       scoring={'AP': \"average_precision\", 'ac': \"accuracy\"},cv= 5,\n",
    "                        refit= \"AP\", verbose= 1, n_jobs= 7)"
   ]
  },
  {
   "cell_type": "code",
   "execution_count": 104,
   "metadata": {},
   "outputs": [
    {
     "name": "stdout",
     "output_type": "stream",
     "text": [
      "Fitting 5 folds for each of 10 candidates, totalling 50 fits\n"
     ]
    },
    {
     "name": "stderr",
     "output_type": "stream",
     "text": [
      "[Parallel(n_jobs=7)]: Using backend LokyBackend with 7 concurrent workers.\n",
      "[Parallel(n_jobs=7)]: Done  36 tasks      | elapsed:  3.6min\n",
      "[Parallel(n_jobs=7)]: Done  50 out of  50 | elapsed:  4.7min finished\n"
     ]
    },
    {
     "data": {
      "text/plain": [
       "GridSearchCV(cv=5, error_score=nan,\n",
       "             estimator=Pipeline(memory=None,\n",
       "                                steps=[('prep',\n",
       "                                        ColumnTransformer(n_jobs=None,\n",
       "                                                          remainder='drop',\n",
       "                                                          sparse_threshold=0.3,\n",
       "                                                          transformer_weights=None,\n",
       "                                                          transformers=[('num',\n",
       "                                                                         'passthrough',\n",
       "                                                                         Index(['age', 'campaign', 'pdays', 'previous', 'emp.var.rate',\n",
       "       'cons.price.idx', 'cons.conf.idx', 'euribor3m', 'nr.employed'],\n",
       "      dtype='object')),\n",
       "                                                                        ('cat',...\n",
       "                                                      seed=None, silent=None,\n",
       "                                                      subsample=1,\n",
       "                                                      verbosity=1))],\n",
       "                                verbose=False),\n",
       "             iid='deprecated', n_jobs=7,\n",
       "             param_grid={'model__learning_rate': array([0.01      , 0.01444444, 0.01888889, 0.02333333, 0.02777778,\n",
       "       0.03222222, 0.03666667, 0.04111111, 0.04555556, 0.05      ])},\n",
       "             pre_dispatch='2*n_jobs', refit='AP', return_train_score=True,\n",
       "             scoring={'AP': 'average_precision', 'ac': 'accuracy'}, verbose=1)"
      ]
     },
     "execution_count": 104,
     "metadata": {},
     "output_type": "execute_result"
    }
   ],
   "source": [
    "grid_xgb.fit(X_trainval, y_trainval)"
   ]
  },
  {
   "cell_type": "code",
   "execution_count": 105,
   "metadata": {},
   "outputs": [
    {
     "data": {
      "text/plain": [
       "{'model__learning_rate': 0.05}"
      ]
     },
     "execution_count": 105,
     "metadata": {},
     "output_type": "execute_result"
    }
   ],
   "source": [
    "grid_xgb.best_params_"
   ]
  },
  {
   "cell_type": "code",
   "execution_count": 106,
   "metadata": {},
   "outputs": [
    {
     "data": {
      "text/plain": [
       "0.4623547940346445"
      ]
     },
     "execution_count": 106,
     "metadata": {},
     "output_type": "execute_result"
    }
   ],
   "source": [
    "grid_xgb.best_score_"
   ]
  },
  {
   "cell_type": "code",
   "execution_count": 107,
   "metadata": {},
   "outputs": [],
   "source": [
    "model_xgb= grid_xgb.best_estimator_"
   ]
  },
  {
   "cell_type": "code",
   "execution_count": 108,
   "metadata": {},
   "outputs": [
    {
     "data": {
      "text/html": [
       "<div>\n",
       "<style scoped>\n",
       "    .dataframe tbody tr th:only-of-type {\n",
       "        vertical-align: middle;\n",
       "    }\n",
       "\n",
       "    .dataframe tbody tr th {\n",
       "        vertical-align: top;\n",
       "    }\n",
       "\n",
       "    .dataframe thead th {\n",
       "        text-align: right;\n",
       "    }\n",
       "</style>\n",
       "<table border=\"1\" class=\"dataframe\">\n",
       "  <thead>\n",
       "    <tr style=\"text-align: right;\">\n",
       "      <th></th>\n",
       "      <th>mean_fit_time</th>\n",
       "      <th>std_fit_time</th>\n",
       "      <th>mean_score_time</th>\n",
       "      <th>std_score_time</th>\n",
       "      <th>param_model__learning_rate</th>\n",
       "      <th>params</th>\n",
       "      <th>split0_test_AP</th>\n",
       "      <th>split1_test_AP</th>\n",
       "      <th>split2_test_AP</th>\n",
       "      <th>split3_test_AP</th>\n",
       "      <th>...</th>\n",
       "      <th>mean_test_ac</th>\n",
       "      <th>std_test_ac</th>\n",
       "      <th>rank_test_ac</th>\n",
       "      <th>split0_train_ac</th>\n",
       "      <th>split1_train_ac</th>\n",
       "      <th>split2_train_ac</th>\n",
       "      <th>split3_train_ac</th>\n",
       "      <th>split4_train_ac</th>\n",
       "      <th>mean_train_ac</th>\n",
       "      <th>std_train_ac</th>\n",
       "    </tr>\n",
       "  </thead>\n",
       "  <tbody>\n",
       "    <tr>\n",
       "      <th>0</th>\n",
       "      <td>33.961233</td>\n",
       "      <td>0.453749</td>\n",
       "      <td>0.457724</td>\n",
       "      <td>0.023448</td>\n",
       "      <td>0.01</td>\n",
       "      <td>{'model__learning_rate': 0.01}</td>\n",
       "      <td>0.427441</td>\n",
       "      <td>0.469333</td>\n",
       "      <td>0.458083</td>\n",
       "      <td>0.464713</td>\n",
       "      <td>...</td>\n",
       "      <td>0.899259</td>\n",
       "      <td>0.001962</td>\n",
       "      <td>9</td>\n",
       "      <td>0.900453</td>\n",
       "      <td>0.899324</td>\n",
       "      <td>0.900417</td>\n",
       "      <td>0.899769</td>\n",
       "      <td>0.900174</td>\n",
       "      <td>0.900028</td>\n",
       "      <td>0.000428</td>\n",
       "    </tr>\n",
       "    <tr>\n",
       "      <th>1</th>\n",
       "      <td>33.931213</td>\n",
       "      <td>0.107161</td>\n",
       "      <td>0.439312</td>\n",
       "      <td>0.021190</td>\n",
       "      <td>0.0144444</td>\n",
       "      <td>{'model__learning_rate': 0.014444444444444444}</td>\n",
       "      <td>0.426937</td>\n",
       "      <td>0.471923</td>\n",
       "      <td>0.460491</td>\n",
       "      <td>0.466897</td>\n",
       "      <td>...</td>\n",
       "      <td>0.899065</td>\n",
       "      <td>0.002037</td>\n",
       "      <td>10</td>\n",
       "      <td>0.901343</td>\n",
       "      <td>0.899810</td>\n",
       "      <td>0.900457</td>\n",
       "      <td>0.900093</td>\n",
       "      <td>0.900457</td>\n",
       "      <td>0.900432</td>\n",
       "      <td>0.000517</td>\n",
       "    </tr>\n",
       "    <tr>\n",
       "      <th>2</th>\n",
       "      <td>34.059703</td>\n",
       "      <td>0.325162</td>\n",
       "      <td>0.466731</td>\n",
       "      <td>0.020737</td>\n",
       "      <td>0.0188889</td>\n",
       "      <td>{'model__learning_rate': 0.01888888888888889}</td>\n",
       "      <td>0.430565</td>\n",
       "      <td>0.474803</td>\n",
       "      <td>0.462980</td>\n",
       "      <td>0.470076</td>\n",
       "      <td>...</td>\n",
       "      <td>0.899388</td>\n",
       "      <td>0.001714</td>\n",
       "      <td>8</td>\n",
       "      <td>0.902234</td>\n",
       "      <td>0.900255</td>\n",
       "      <td>0.901186</td>\n",
       "      <td>0.900943</td>\n",
       "      <td>0.901752</td>\n",
       "      <td>0.901274</td>\n",
       "      <td>0.000679</td>\n",
       "    </tr>\n",
       "    <tr>\n",
       "      <th>3</th>\n",
       "      <td>34.069311</td>\n",
       "      <td>0.159552</td>\n",
       "      <td>0.524171</td>\n",
       "      <td>0.022558</td>\n",
       "      <td>0.0233333</td>\n",
       "      <td>{'model__learning_rate': 0.02333333333333333}</td>\n",
       "      <td>0.433738</td>\n",
       "      <td>0.477207</td>\n",
       "      <td>0.465627</td>\n",
       "      <td>0.470799</td>\n",
       "      <td>...</td>\n",
       "      <td>0.899971</td>\n",
       "      <td>0.001826</td>\n",
       "      <td>5</td>\n",
       "      <td>0.903286</td>\n",
       "      <td>0.901428</td>\n",
       "      <td>0.901671</td>\n",
       "      <td>0.902076</td>\n",
       "      <td>0.902561</td>\n",
       "      <td>0.902205</td>\n",
       "      <td>0.000663</td>\n",
       "    </tr>\n",
       "    <tr>\n",
       "      <th>4</th>\n",
       "      <td>33.866366</td>\n",
       "      <td>0.245819</td>\n",
       "      <td>0.485744</td>\n",
       "      <td>0.034582</td>\n",
       "      <td>0.0277778</td>\n",
       "      <td>{'model__learning_rate': 0.027777777777777776}</td>\n",
       "      <td>0.434937</td>\n",
       "      <td>0.476910</td>\n",
       "      <td>0.465986</td>\n",
       "      <td>0.469652</td>\n",
       "      <td>...</td>\n",
       "      <td>0.899777</td>\n",
       "      <td>0.001694</td>\n",
       "      <td>7</td>\n",
       "      <td>0.903286</td>\n",
       "      <td>0.902319</td>\n",
       "      <td>0.902035</td>\n",
       "      <td>0.902642</td>\n",
       "      <td>0.902845</td>\n",
       "      <td>0.902625</td>\n",
       "      <td>0.000431</td>\n",
       "    </tr>\n",
       "  </tbody>\n",
       "</table>\n",
       "<p>5 rows × 36 columns</p>\n",
       "</div>"
      ],
      "text/plain": [
       "   mean_fit_time  std_fit_time  mean_score_time  std_score_time  \\\n",
       "0      33.961233      0.453749         0.457724        0.023448   \n",
       "1      33.931213      0.107161         0.439312        0.021190   \n",
       "2      34.059703      0.325162         0.466731        0.020737   \n",
       "3      34.069311      0.159552         0.524171        0.022558   \n",
       "4      33.866366      0.245819         0.485744        0.034582   \n",
       "\n",
       "  param_model__learning_rate                                          params  \\\n",
       "0                       0.01                  {'model__learning_rate': 0.01}   \n",
       "1                  0.0144444  {'model__learning_rate': 0.014444444444444444}   \n",
       "2                  0.0188889   {'model__learning_rate': 0.01888888888888889}   \n",
       "3                  0.0233333   {'model__learning_rate': 0.02333333333333333}   \n",
       "4                  0.0277778  {'model__learning_rate': 0.027777777777777776}   \n",
       "\n",
       "   split0_test_AP  split1_test_AP  split2_test_AP  split3_test_AP  ...  \\\n",
       "0        0.427441        0.469333        0.458083        0.464713  ...   \n",
       "1        0.426937        0.471923        0.460491        0.466897  ...   \n",
       "2        0.430565        0.474803        0.462980        0.470076  ...   \n",
       "3        0.433738        0.477207        0.465627        0.470799  ...   \n",
       "4        0.434937        0.476910        0.465986        0.469652  ...   \n",
       "\n",
       "   mean_test_ac  std_test_ac  rank_test_ac  split0_train_ac  split1_train_ac  \\\n",
       "0      0.899259     0.001962             9         0.900453         0.899324   \n",
       "1      0.899065     0.002037            10         0.901343         0.899810   \n",
       "2      0.899388     0.001714             8         0.902234         0.900255   \n",
       "3      0.899971     0.001826             5         0.903286         0.901428   \n",
       "4      0.899777     0.001694             7         0.903286         0.902319   \n",
       "\n",
       "   split2_train_ac  split3_train_ac  split4_train_ac  mean_train_ac  \\\n",
       "0         0.900417         0.899769         0.900174       0.900028   \n",
       "1         0.900457         0.900093         0.900457       0.900432   \n",
       "2         0.901186         0.900943         0.901752       0.901274   \n",
       "3         0.901671         0.902076         0.902561       0.902205   \n",
       "4         0.902035         0.902642         0.902845       0.902625   \n",
       "\n",
       "   std_train_ac  \n",
       "0      0.000428  \n",
       "1      0.000517  \n",
       "2      0.000679  \n",
       "3      0.000663  \n",
       "4      0.000431  \n",
       "\n",
       "[5 rows x 36 columns]"
      ]
     },
     "execution_count": 108,
     "metadata": {},
     "output_type": "execute_result"
    }
   ],
   "source": [
    "pd.DataFrame(grid_xgb.cv_results_).head()"
   ]
  },
  {
   "cell_type": "code",
   "execution_count": 109,
   "metadata": {},
   "outputs": [],
   "source": [
    "xgb_df= pd.DataFrame(grid_xgb.cv_results_)"
   ]
  },
  {
   "cell_type": "code",
   "execution_count": 110,
   "metadata": {},
   "outputs": [
    {
     "data": {
      "text/plain": [
       "(array([-2.,  0.,  2.,  4.,  6.,  8., 10.]),\n",
       " <a list of 7 Text major ticklabel objects>)"
      ]
     },
     "execution_count": 110,
     "metadata": {},
     "output_type": "execute_result"
    },
    {
     "data": {
      "image/png": "[encoded data removed]",
      "text/plain": [
       "<Figure size 720x360 with 1 Axes>"
      ]
     },
     "metadata": {
      "needs_background": "light"
     },
     "output_type": "display_data"
    }
   ],
   "source": [
    "plt.rcParams[\"figure.figsize\"] = [10, 5]\n",
    "a= xgb_df.plot(\"params\", \"mean_train_AP\")\n",
    "b= xgb_df.plot(\"params\", \"mean_test_AP\", ax= plt.gca())\n",
    "c= xgb_df.plot(\"params\", \"mean_test_ac\", ax= plt.gca())\n",
    "d= xgb_df.plot(\"params\", \"mean_train_ac\", ax= plt.gca())\n",
    "plt.xticks(rotation= 90)"
   ]
  },
  {
   "cell_type": "code",
   "execution_count": 112,
   "metadata": {},
   "outputs": [
    {
     "data": {
      "image/png": "[encoded data removed]",
      "text/plain": [
       "<Figure size 720x360 with 1 Axes>"
      ]
     },
     "metadata": {
      "needs_background": "light"
     },
     "output_type": "display_data"
    }
   ],
   "source": [
    "prc_xgb= plot_precision_recall_curve(model_xgb, X_test, y_test, name= 'xgboost')"
   ]
  },
  {
   "cell_type": "code",
   "execution_count": 114,
   "metadata": {},
   "outputs": [
    {
     "data": {
      "image/png": "[encoded data removed]",
      "text/plain": [
       "<Figure size 720x360 with 1 Axes>"
      ]
     },
     "metadata": {
      "needs_background": "light"
     },
     "output_type": "display_data"
    }
   ],
   "source": [
    "roc_xgb= plot_roc_curve(model_xgb, X_test, y_test, name= 'xgboost')"
   ]
  },
  {
   "cell_type": "markdown",
   "metadata": {},
   "source": [
    "So the best model based on average-precision score is xgboost and now we we will find the best threshold so that our macro average is maximum"
   ]
  },
  {
   "cell_type": "code",
   "execution_count": 147,
   "metadata": {},
   "outputs": [
    {
     "data": {
      "text/plain": [
       "0.6233480864088039"
      ]
     },
     "execution_count": 147,
     "metadata": {},
     "output_type": "execute_result"
    }
   ],
   "source": [
    "y_predsss= model_xgb.predict_proba(X_trainval)[:, 1]>0.05\n",
    "X_trainval\n",
    "recall_score(y_trainval, y_predss, average= 'macro')"
   ]
  },
  {
   "cell_type": "code",
   "execution_count": 148,
   "metadata": {},
   "outputs": [
    {
     "name": "stdout",
     "output_type": "stream",
     "text": [
      "Max: 0.7515 and Argmax: 12\n"
     ]
    }
   ],
   "source": [
    "macroavg_recal= []\n",
    "for i in np.arange(0, 0.6, 0.01):\n",
    "    y_preds= model_xgb.predict_proba(X_trainval)[:, 1]>i\n",
    "    res= recall_score(y_trainval, y_preds, average= 'macro')\n",
    "    macroavg_recal.append(res)\n",
    "\n",
    "print(\"Max: %0.4f and Argmax: %i\"%(np.max(macroavg_recal), np.argmax(macroavg_recal)))    "
   ]
  },
  {
   "cell_type": "code",
   "execution_count": 153,
   "metadata": {},
   "outputs": [
    {
     "name": "stdout",
     "output_type": "stream",
     "text": [
      "              precision    recall  f1-score   support\n",
      "\n",
      "       False       0.95      0.87      0.91      9137\n",
      "        True       0.39      0.66      0.49      1160\n",
      "\n",
      "    accuracy                           0.84     10297\n",
      "   macro avg       0.67      0.76      0.70     10297\n",
      "weighted avg       0.89      0.84      0.86     10297\n",
      "\n"
     ]
    }
   ],
   "source": [
    "y_pred= model_xgb.predict_proba(X_test)[:, 1]> 0.12\n",
    "print(classification_report(y_test, y_pred))"
   ]
  },
  {
   "cell_type": "code",
   "execution_count": 155,
   "metadata": {},
   "outputs": [
    {
     "data": {
      "text/plain": [
       "(<Figure size 576x576 with 1 Axes>,\n",
       " <matplotlib.axes._subplots.AxesSubplot at 0xfa35208e48>)"
      ]
     },
     "execution_count": 155,
     "metadata": {},
     "output_type": "execute_result"
    },
    {
     "data": {
      "image/png": "[encoded data removed]",
      "text/plain": [
       "<Figure size 576x576 with 1 Axes>"
      ]
     },
     "metadata": {
      "needs_background": "light"
     },
     "output_type": "display_data"
    }
   ],
   "source": [
    "matrix= confusion_matrix(y_test, y_pred)\n",
    "class_names= [\"No\", \"Yes\"]\n",
    "ml_plot_confusion_matrix(matrix, figsize= (8, 8), show_normed= True, class_names= class_names)"
   ]
  },
  {
   "cell_type": "markdown",
   "metadata": {},
   "source": [
    "## Feature importance for the selected model by Permutation_Importance"
   ]
  },
  {
   "cell_type": "code",
   "execution_count": 157,
   "metadata": {},
   "outputs": [],
   "source": [
    "from sklearn.inspection import permutation_importance"
   ]
  },
  {
   "cell_type": "code",
   "execution_count": 158,
   "metadata": {},
   "outputs": [],
   "source": [
    "res= permutation_importance(model_xgb, X_test, y_test, n_repeats= 100, n_jobs= 5, random_state=15)\n",
    "sorted_idx= res.importances_mean.argsort()\n"
   ]
  },
  {
   "cell_type": "code",
   "execution_count": 160,
   "metadata": {},
   "outputs": [
    {
     "data": {
      "image/png": "[encoded data removed]",
      "text/plain": [
       "<Figure size 576x864 with 1 Axes>"
      ]
     },
     "metadata": {
      "needs_background": "light"
     },
     "output_type": "display_data"
    }
   ],
   "source": [
    "#https://scikit-learn.org/stable/auto_examples/inspection/plot_permutation_importance.html\n",
    "fig, ax = plt.subplots(figsize= (8, 12))\n",
    "ax.boxplot(res.importances[sorted_idx].T,\n",
    "           vert=False, labels=X_test.columns[sorted_idx])\n",
    "ax.set_title(\"Permutation Importances (test set)\")\n",
    "fig.tight_layout()\n",
    "plt.show()"
   ]
  },
  {
   "cell_type": "code",
   "execution_count": null,
   "metadata": {},
   "outputs": [],
   "source": []
  },
  {
   "cell_type": "code",
   "execution_count": null,
   "metadata": {},
   "outputs": [],
   "source": []
  },
  {
   "cell_type": "code",
   "execution_count": null,
   "metadata": {},
   "outputs": [],
   "source": []
  }
 ],
 "metadata": {
  "kernelspec": {
   "display_name": "Python 3",
   "language": "python",
   "name": "python3"
  },
  "language_info": {
   "codemirror_mode": {
    "name": "ipython",
    "version": 3
   },
   "file_extension": ".py",
   "mimetype": "text/x-python",
   "name": "python",
   "nbconvert_exporter": "python",
   "pygments_lexer": "ipython3",
   "version": "3.7.6"
  }
 },
 "nbformat": 4,
 "nbformat_minor": 4
}
